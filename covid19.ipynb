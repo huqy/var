{
  "nbformat": 4,
  "nbformat_minor": 0,
  "metadata": {
    "colab": {
      "name": "covid19_scratch.ipynb",
      "provenance": [],
      "collapsed_sections": [],
      "toc_visible": true
    },
    "kernelspec": {
      "name": "python3",
      "display_name": "Python 3"
    }
  },
  "cells": [
    {
      "cell_type": "markdown",
      "metadata": {
        "id": "mEtWVXFsFojj",
        "colab_type": "text"
      },
      "source": [
        "##### Copyright 2020 Qiyang Hu & Shao-Ching Huang"
      ]
    },
    {
      "cell_type": "code",
      "metadata": {
        "id": "qzQZkoyZF2Ng",
        "colab_type": "code",
        "colab": {}
      },
      "source": [
        "#@title Licensed under MIT License (the \"License\");\n",
        "# you may not use this file except in compliance with the License.\n",
        "# You may obtain a copy of the License at\n",
        "#\n",
        "# https://huqy.github.io/var/LICENSE.md\n",
        "#\n",
        "# Unless required by applicable law or agreed to in writing, software\n",
        "# distributed under the License is distributed on an \"AS IS\" BASIS,\n",
        "# WITHOUT WARRANTIES OR CONDITIONS OF ANY KIND, either express or implied.\n",
        "# See the License for the specific language governing permissions and\n",
        "# limitations under the License."
      ],
      "execution_count": 0,
      "outputs": []
    },
    {
      "cell_type": "markdown",
      "metadata": {
        "id": "Vh6tN26NaFZL",
        "colab_type": "text"
      },
      "source": [
        "# Getting raw data"
      ]
    },
    {
      "cell_type": "markdown",
      "metadata": {
        "id": "hbpFtaXeaMKb",
        "colab_type": "text"
      },
      "source": [
        "2019 Novel Coronavirus COVID-19 (2019-nCoV) Data Repository by Johns Hopkins CSSE ([source](https://github.com/CSSEGISandData/COVID-19))"
      ]
    },
    {
      "cell_type": "code",
      "metadata": {
        "id": "JvYazE2PwwKD",
        "colab_type": "code",
        "colab": {}
      },
      "source": [
        "import pandas as pd\n",
        "import numpy as np"
      ],
      "execution_count": 0,
      "outputs": []
    },
    {
      "cell_type": "code",
      "metadata": {
        "id": "1r8mYSvrw6T_",
        "colab_type": "code",
        "outputId": "dba4f0ca-243a-4000-f496-e35a9c72bd7a",
        "colab": {
          "base_uri": "https://localhost:8080/",
          "height": 224
        }
      },
      "source": [
        "conf_df = pd.read_csv('https://raw.githubusercontent.com/CSSEGISandData/COVID-19/master/csse_covid_19_data/csse_covid_19_time_series/time_series_covid19_confirmed_global.csv')\n",
        "conf_df.head()"
      ],
      "execution_count": 3,
      "outputs": [
        {
          "output_type": "execute_result",
          "data": {
            "text/html": [
              "<div>\n",
              "<style scoped>\n",
              "    .dataframe tbody tr th:only-of-type {\n",
              "        vertical-align: middle;\n",
              "    }\n",
              "\n",
              "    .dataframe tbody tr th {\n",
              "        vertical-align: top;\n",
              "    }\n",
              "\n",
              "    .dataframe thead th {\n",
              "        text-align: right;\n",
              "    }\n",
              "</style>\n",
              "<table border=\"1\" class=\"dataframe\">\n",
              "  <thead>\n",
              "    <tr style=\"text-align: right;\">\n",
              "      <th></th>\n",
              "      <th>Province/State</th>\n",
              "      <th>Country/Region</th>\n",
              "      <th>Lat</th>\n",
              "      <th>Long</th>\n",
              "      <th>1/22/20</th>\n",
              "      <th>1/23/20</th>\n",
              "      <th>1/24/20</th>\n",
              "      <th>1/25/20</th>\n",
              "      <th>1/26/20</th>\n",
              "      <th>1/27/20</th>\n",
              "      <th>1/28/20</th>\n",
              "      <th>1/29/20</th>\n",
              "      <th>1/30/20</th>\n",
              "      <th>1/31/20</th>\n",
              "      <th>2/1/20</th>\n",
              "      <th>2/2/20</th>\n",
              "      <th>2/3/20</th>\n",
              "      <th>2/4/20</th>\n",
              "      <th>2/5/20</th>\n",
              "      <th>2/6/20</th>\n",
              "      <th>2/7/20</th>\n",
              "      <th>2/8/20</th>\n",
              "      <th>2/9/20</th>\n",
              "      <th>2/10/20</th>\n",
              "      <th>2/11/20</th>\n",
              "      <th>2/12/20</th>\n",
              "      <th>2/13/20</th>\n",
              "      <th>2/14/20</th>\n",
              "      <th>2/15/20</th>\n",
              "      <th>2/16/20</th>\n",
              "      <th>2/17/20</th>\n",
              "      <th>2/18/20</th>\n",
              "      <th>2/19/20</th>\n",
              "      <th>2/20/20</th>\n",
              "      <th>2/21/20</th>\n",
              "      <th>2/22/20</th>\n",
              "      <th>2/23/20</th>\n",
              "      <th>2/24/20</th>\n",
              "      <th>2/25/20</th>\n",
              "      <th>2/26/20</th>\n",
              "      <th>2/27/20</th>\n",
              "      <th>2/28/20</th>\n",
              "      <th>2/29/20</th>\n",
              "      <th>3/1/20</th>\n",
              "      <th>3/2/20</th>\n",
              "      <th>3/3/20</th>\n",
              "      <th>3/4/20</th>\n",
              "      <th>3/5/20</th>\n",
              "      <th>3/6/20</th>\n",
              "      <th>3/7/20</th>\n",
              "      <th>3/8/20</th>\n",
              "      <th>3/9/20</th>\n",
              "      <th>3/10/20</th>\n",
              "      <th>3/11/20</th>\n",
              "      <th>3/12/20</th>\n",
              "      <th>3/13/20</th>\n",
              "      <th>3/14/20</th>\n",
              "      <th>3/15/20</th>\n",
              "      <th>3/16/20</th>\n",
              "      <th>3/17/20</th>\n",
              "      <th>3/18/20</th>\n",
              "      <th>3/19/20</th>\n",
              "      <th>3/20/20</th>\n",
              "      <th>3/21/20</th>\n",
              "      <th>3/22/20</th>\n",
              "      <th>3/23/20</th>\n",
              "      <th>3/24/20</th>\n",
              "      <th>3/25/20</th>\n",
              "      <th>3/26/20</th>\n",
              "      <th>3/27/20</th>\n",
              "      <th>3/28/20</th>\n",
              "      <th>3/29/20</th>\n",
              "      <th>3/30/20</th>\n",
              "      <th>3/31/20</th>\n",
              "      <th>4/1/20</th>\n",
              "      <th>4/2/20</th>\n",
              "      <th>4/3/20</th>\n",
              "      <th>4/4/20</th>\n",
              "      <th>4/5/20</th>\n",
              "      <th>4/6/20</th>\n",
              "    </tr>\n",
              "  </thead>\n",
              "  <tbody>\n",
              "    <tr>\n",
              "      <th>0</th>\n",
              "      <td>NaN</td>\n",
              "      <td>Afghanistan</td>\n",
              "      <td>33.0000</td>\n",
              "      <td>65.0000</td>\n",
              "      <td>0</td>\n",
              "      <td>0</td>\n",
              "      <td>0</td>\n",
              "      <td>0</td>\n",
              "      <td>0</td>\n",
              "      <td>0</td>\n",
              "      <td>0</td>\n",
              "      <td>0</td>\n",
              "      <td>0</td>\n",
              "      <td>0</td>\n",
              "      <td>0</td>\n",
              "      <td>0</td>\n",
              "      <td>0</td>\n",
              "      <td>0</td>\n",
              "      <td>0</td>\n",
              "      <td>0</td>\n",
              "      <td>0</td>\n",
              "      <td>0</td>\n",
              "      <td>0</td>\n",
              "      <td>0</td>\n",
              "      <td>0</td>\n",
              "      <td>0</td>\n",
              "      <td>0</td>\n",
              "      <td>0</td>\n",
              "      <td>0</td>\n",
              "      <td>0</td>\n",
              "      <td>0</td>\n",
              "      <td>0</td>\n",
              "      <td>0</td>\n",
              "      <td>0</td>\n",
              "      <td>0</td>\n",
              "      <td>0</td>\n",
              "      <td>0</td>\n",
              "      <td>1</td>\n",
              "      <td>1</td>\n",
              "      <td>1</td>\n",
              "      <td>1</td>\n",
              "      <td>1</td>\n",
              "      <td>1</td>\n",
              "      <td>1</td>\n",
              "      <td>1</td>\n",
              "      <td>1</td>\n",
              "      <td>1</td>\n",
              "      <td>1</td>\n",
              "      <td>1</td>\n",
              "      <td>1</td>\n",
              "      <td>4</td>\n",
              "      <td>4</td>\n",
              "      <td>5</td>\n",
              "      <td>7</td>\n",
              "      <td>7</td>\n",
              "      <td>7</td>\n",
              "      <td>11</td>\n",
              "      <td>16</td>\n",
              "      <td>21</td>\n",
              "      <td>22</td>\n",
              "      <td>22</td>\n",
              "      <td>22</td>\n",
              "      <td>24</td>\n",
              "      <td>24</td>\n",
              "      <td>40</td>\n",
              "      <td>40</td>\n",
              "      <td>74</td>\n",
              "      <td>84</td>\n",
              "      <td>94</td>\n",
              "      <td>110</td>\n",
              "      <td>110</td>\n",
              "      <td>120</td>\n",
              "      <td>170</td>\n",
              "      <td>174</td>\n",
              "      <td>237</td>\n",
              "      <td>273</td>\n",
              "      <td>281</td>\n",
              "      <td>299</td>\n",
              "      <td>349</td>\n",
              "      <td>367</td>\n",
              "    </tr>\n",
              "    <tr>\n",
              "      <th>1</th>\n",
              "      <td>NaN</td>\n",
              "      <td>Albania</td>\n",
              "      <td>41.1533</td>\n",
              "      <td>20.1683</td>\n",
              "      <td>0</td>\n",
              "      <td>0</td>\n",
              "      <td>0</td>\n",
              "      <td>0</td>\n",
              "      <td>0</td>\n",
              "      <td>0</td>\n",
              "      <td>0</td>\n",
              "      <td>0</td>\n",
              "      <td>0</td>\n",
              "      <td>0</td>\n",
              "      <td>0</td>\n",
              "      <td>0</td>\n",
              "      <td>0</td>\n",
              "      <td>0</td>\n",
              "      <td>0</td>\n",
              "      <td>0</td>\n",
              "      <td>0</td>\n",
              "      <td>0</td>\n",
              "      <td>0</td>\n",
              "      <td>0</td>\n",
              "      <td>0</td>\n",
              "      <td>0</td>\n",
              "      <td>0</td>\n",
              "      <td>0</td>\n",
              "      <td>0</td>\n",
              "      <td>0</td>\n",
              "      <td>0</td>\n",
              "      <td>0</td>\n",
              "      <td>0</td>\n",
              "      <td>0</td>\n",
              "      <td>0</td>\n",
              "      <td>0</td>\n",
              "      <td>0</td>\n",
              "      <td>0</td>\n",
              "      <td>0</td>\n",
              "      <td>0</td>\n",
              "      <td>0</td>\n",
              "      <td>0</td>\n",
              "      <td>0</td>\n",
              "      <td>0</td>\n",
              "      <td>0</td>\n",
              "      <td>0</td>\n",
              "      <td>0</td>\n",
              "      <td>0</td>\n",
              "      <td>0</td>\n",
              "      <td>0</td>\n",
              "      <td>0</td>\n",
              "      <td>2</td>\n",
              "      <td>10</td>\n",
              "      <td>12</td>\n",
              "      <td>23</td>\n",
              "      <td>33</td>\n",
              "      <td>38</td>\n",
              "      <td>42</td>\n",
              "      <td>51</td>\n",
              "      <td>55</td>\n",
              "      <td>59</td>\n",
              "      <td>64</td>\n",
              "      <td>70</td>\n",
              "      <td>76</td>\n",
              "      <td>89</td>\n",
              "      <td>104</td>\n",
              "      <td>123</td>\n",
              "      <td>146</td>\n",
              "      <td>174</td>\n",
              "      <td>186</td>\n",
              "      <td>197</td>\n",
              "      <td>212</td>\n",
              "      <td>223</td>\n",
              "      <td>243</td>\n",
              "      <td>259</td>\n",
              "      <td>277</td>\n",
              "      <td>304</td>\n",
              "      <td>333</td>\n",
              "      <td>361</td>\n",
              "      <td>377</td>\n",
              "    </tr>\n",
              "    <tr>\n",
              "      <th>2</th>\n",
              "      <td>NaN</td>\n",
              "      <td>Algeria</td>\n",
              "      <td>28.0339</td>\n",
              "      <td>1.6596</td>\n",
              "      <td>0</td>\n",
              "      <td>0</td>\n",
              "      <td>0</td>\n",
              "      <td>0</td>\n",
              "      <td>0</td>\n",
              "      <td>0</td>\n",
              "      <td>0</td>\n",
              "      <td>0</td>\n",
              "      <td>0</td>\n",
              "      <td>0</td>\n",
              "      <td>0</td>\n",
              "      <td>0</td>\n",
              "      <td>0</td>\n",
              "      <td>0</td>\n",
              "      <td>0</td>\n",
              "      <td>0</td>\n",
              "      <td>0</td>\n",
              "      <td>0</td>\n",
              "      <td>0</td>\n",
              "      <td>0</td>\n",
              "      <td>0</td>\n",
              "      <td>0</td>\n",
              "      <td>0</td>\n",
              "      <td>0</td>\n",
              "      <td>0</td>\n",
              "      <td>0</td>\n",
              "      <td>0</td>\n",
              "      <td>0</td>\n",
              "      <td>0</td>\n",
              "      <td>0</td>\n",
              "      <td>0</td>\n",
              "      <td>0</td>\n",
              "      <td>0</td>\n",
              "      <td>0</td>\n",
              "      <td>1</td>\n",
              "      <td>1</td>\n",
              "      <td>1</td>\n",
              "      <td>1</td>\n",
              "      <td>1</td>\n",
              "      <td>1</td>\n",
              "      <td>3</td>\n",
              "      <td>5</td>\n",
              "      <td>12</td>\n",
              "      <td>12</td>\n",
              "      <td>17</td>\n",
              "      <td>17</td>\n",
              "      <td>19</td>\n",
              "      <td>20</td>\n",
              "      <td>20</td>\n",
              "      <td>20</td>\n",
              "      <td>24</td>\n",
              "      <td>26</td>\n",
              "      <td>37</td>\n",
              "      <td>48</td>\n",
              "      <td>54</td>\n",
              "      <td>60</td>\n",
              "      <td>74</td>\n",
              "      <td>87</td>\n",
              "      <td>90</td>\n",
              "      <td>139</td>\n",
              "      <td>201</td>\n",
              "      <td>230</td>\n",
              "      <td>264</td>\n",
              "      <td>302</td>\n",
              "      <td>367</td>\n",
              "      <td>409</td>\n",
              "      <td>454</td>\n",
              "      <td>511</td>\n",
              "      <td>584</td>\n",
              "      <td>716</td>\n",
              "      <td>847</td>\n",
              "      <td>986</td>\n",
              "      <td>1171</td>\n",
              "      <td>1251</td>\n",
              "      <td>1320</td>\n",
              "      <td>1423</td>\n",
              "    </tr>\n",
              "    <tr>\n",
              "      <th>3</th>\n",
              "      <td>NaN</td>\n",
              "      <td>Andorra</td>\n",
              "      <td>42.5063</td>\n",
              "      <td>1.5218</td>\n",
              "      <td>0</td>\n",
              "      <td>0</td>\n",
              "      <td>0</td>\n",
              "      <td>0</td>\n",
              "      <td>0</td>\n",
              "      <td>0</td>\n",
              "      <td>0</td>\n",
              "      <td>0</td>\n",
              "      <td>0</td>\n",
              "      <td>0</td>\n",
              "      <td>0</td>\n",
              "      <td>0</td>\n",
              "      <td>0</td>\n",
              "      <td>0</td>\n",
              "      <td>0</td>\n",
              "      <td>0</td>\n",
              "      <td>0</td>\n",
              "      <td>0</td>\n",
              "      <td>0</td>\n",
              "      <td>0</td>\n",
              "      <td>0</td>\n",
              "      <td>0</td>\n",
              "      <td>0</td>\n",
              "      <td>0</td>\n",
              "      <td>0</td>\n",
              "      <td>0</td>\n",
              "      <td>0</td>\n",
              "      <td>0</td>\n",
              "      <td>0</td>\n",
              "      <td>0</td>\n",
              "      <td>0</td>\n",
              "      <td>0</td>\n",
              "      <td>0</td>\n",
              "      <td>0</td>\n",
              "      <td>0</td>\n",
              "      <td>0</td>\n",
              "      <td>0</td>\n",
              "      <td>0</td>\n",
              "      <td>0</td>\n",
              "      <td>0</td>\n",
              "      <td>1</td>\n",
              "      <td>1</td>\n",
              "      <td>1</td>\n",
              "      <td>1</td>\n",
              "      <td>1</td>\n",
              "      <td>1</td>\n",
              "      <td>1</td>\n",
              "      <td>1</td>\n",
              "      <td>1</td>\n",
              "      <td>1</td>\n",
              "      <td>1</td>\n",
              "      <td>1</td>\n",
              "      <td>1</td>\n",
              "      <td>1</td>\n",
              "      <td>2</td>\n",
              "      <td>39</td>\n",
              "      <td>39</td>\n",
              "      <td>53</td>\n",
              "      <td>75</td>\n",
              "      <td>88</td>\n",
              "      <td>113</td>\n",
              "      <td>133</td>\n",
              "      <td>164</td>\n",
              "      <td>188</td>\n",
              "      <td>224</td>\n",
              "      <td>267</td>\n",
              "      <td>308</td>\n",
              "      <td>334</td>\n",
              "      <td>370</td>\n",
              "      <td>376</td>\n",
              "      <td>390</td>\n",
              "      <td>428</td>\n",
              "      <td>439</td>\n",
              "      <td>466</td>\n",
              "      <td>501</td>\n",
              "      <td>525</td>\n",
              "    </tr>\n",
              "    <tr>\n",
              "      <th>4</th>\n",
              "      <td>NaN</td>\n",
              "      <td>Angola</td>\n",
              "      <td>-11.2027</td>\n",
              "      <td>17.8739</td>\n",
              "      <td>0</td>\n",
              "      <td>0</td>\n",
              "      <td>0</td>\n",
              "      <td>0</td>\n",
              "      <td>0</td>\n",
              "      <td>0</td>\n",
              "      <td>0</td>\n",
              "      <td>0</td>\n",
              "      <td>0</td>\n",
              "      <td>0</td>\n",
              "      <td>0</td>\n",
              "      <td>0</td>\n",
              "      <td>0</td>\n",
              "      <td>0</td>\n",
              "      <td>0</td>\n",
              "      <td>0</td>\n",
              "      <td>0</td>\n",
              "      <td>0</td>\n",
              "      <td>0</td>\n",
              "      <td>0</td>\n",
              "      <td>0</td>\n",
              "      <td>0</td>\n",
              "      <td>0</td>\n",
              "      <td>0</td>\n",
              "      <td>0</td>\n",
              "      <td>0</td>\n",
              "      <td>0</td>\n",
              "      <td>0</td>\n",
              "      <td>0</td>\n",
              "      <td>0</td>\n",
              "      <td>0</td>\n",
              "      <td>0</td>\n",
              "      <td>0</td>\n",
              "      <td>0</td>\n",
              "      <td>0</td>\n",
              "      <td>0</td>\n",
              "      <td>0</td>\n",
              "      <td>0</td>\n",
              "      <td>0</td>\n",
              "      <td>0</td>\n",
              "      <td>0</td>\n",
              "      <td>0</td>\n",
              "      <td>0</td>\n",
              "      <td>0</td>\n",
              "      <td>0</td>\n",
              "      <td>0</td>\n",
              "      <td>0</td>\n",
              "      <td>0</td>\n",
              "      <td>0</td>\n",
              "      <td>0</td>\n",
              "      <td>0</td>\n",
              "      <td>0</td>\n",
              "      <td>0</td>\n",
              "      <td>0</td>\n",
              "      <td>0</td>\n",
              "      <td>0</td>\n",
              "      <td>0</td>\n",
              "      <td>0</td>\n",
              "      <td>1</td>\n",
              "      <td>2</td>\n",
              "      <td>2</td>\n",
              "      <td>3</td>\n",
              "      <td>3</td>\n",
              "      <td>3</td>\n",
              "      <td>4</td>\n",
              "      <td>4</td>\n",
              "      <td>5</td>\n",
              "      <td>7</td>\n",
              "      <td>7</td>\n",
              "      <td>7</td>\n",
              "      <td>8</td>\n",
              "      <td>8</td>\n",
              "      <td>8</td>\n",
              "      <td>10</td>\n",
              "      <td>14</td>\n",
              "      <td>16</td>\n",
              "    </tr>\n",
              "  </tbody>\n",
              "</table>\n",
              "</div>"
            ],
            "text/plain": [
              "  Province/State Country/Region      Lat  ...  4/4/20  4/5/20  4/6/20\n",
              "0            NaN    Afghanistan  33.0000  ...     299     349     367\n",
              "1            NaN        Albania  41.1533  ...     333     361     377\n",
              "2            NaN        Algeria  28.0339  ...    1251    1320    1423\n",
              "3            NaN        Andorra  42.5063  ...     466     501     525\n",
              "4            NaN         Angola -11.2027  ...      10      14      16\n",
              "\n",
              "[5 rows x 80 columns]"
            ]
          },
          "metadata": {
            "tags": []
          },
          "execution_count": 3
        }
      ]
    },
    {
      "cell_type": "markdown",
      "metadata": {
        "id": "sLy91p0yPmn-",
        "colab_type": "text"
      },
      "source": [
        "# Inspecting Infection Numbers"
      ]
    },
    {
      "cell_type": "code",
      "metadata": {
        "id": "rubEwcij6KLl",
        "colab_type": "code",
        "outputId": "b6701a82-828c-4083-b2f4-0e38695e67ab",
        "colab": {
          "base_uri": "https://localhost:8080/",
          "height": 34
        }
      },
      "source": [
        "#today = conf_df.columns[len(conf_df.columns)-1]\n",
        "today = conf_df.columns[-1]\n",
        "today"
      ],
      "execution_count": 4,
      "outputs": [
        {
          "output_type": "execute_result",
          "data": {
            "text/plain": [
              "'4/6/20'"
            ]
          },
          "metadata": {
            "tags": []
          },
          "execution_count": 4
        }
      ]
    },
    {
      "cell_type": "code",
      "metadata": {
        "id": "FzblVx1rOjpW",
        "colab_type": "code",
        "colab": {}
      },
      "source": [
        "#num_start_count = 140  # added into get_list() below"
      ],
      "execution_count": 0,
      "outputs": []
    },
    {
      "cell_type": "code",
      "metadata": {
        "id": "tGVSczzwSLZj",
        "colab_type": "code",
        "colab": {}
      },
      "source": [
        "def get_list(col2search, val2search, conf_df, num_start_count=140):\n",
        "#def get_list(col2search, val2search, conf_df):\n",
        "  ts_list = conf_df[(conf_df[col2search] == val2search)]\n",
        "  if ts_list.shape[0] > 1: # if the list has more than one row, we will do sum\n",
        "    #ts_series = ts_list.sum(axis = 0, skipna = True)[4:]\n",
        "    ts_series = ts_list.sum(axis = 0, skipna = True)[4:].astype(int)\n",
        "    eff_dates = ts_series[ts_series > num_start_count].index\n",
        "  else:\n",
        "    ts_series = ts_list.drop(ts_list.columns[[0, 1, 2, 3]], axis=1).iloc[0]\n",
        "    eff_dates = ts_series[ts_series > num_start_count].index\n",
        "  start_date = eff_dates[0]\n",
        "  ts_series.name = val2search  # name the series\n",
        "  ts = ts_series[start_date:]\n",
        "  return ts"
      ],
      "execution_count": 0,
      "outputs": []
    },
    {
      "cell_type": "markdown",
      "metadata": {
        "id": "O7fBEgK1ae9m",
        "colab_type": "text"
      },
      "source": [
        "## Extracting US data"
      ]
    },
    {
      "cell_type": "code",
      "metadata": {
        "id": "flELiRKTVRv6",
        "colab_type": "code",
        "outputId": "dcbb9384-ada2-4a47-fa18-b121f46c0d9a",
        "colab": {
          "base_uri": "https://localhost:8080/",
          "height": 612
        }
      },
      "source": [
        "ts_us = get_list('Country/Region', 'US', conf_df)\n",
        "start_us = ts_us.index[0]\n",
        "d_us = range(ts_us.count())\n",
        "ts_us"
      ],
      "execution_count": 7,
      "outputs": [
        {
          "output_type": "execute_result",
          "data": {
            "text/plain": [
              "3/4/20        149\n",
              "3/5/20        217\n",
              "3/6/20        262\n",
              "3/7/20        402\n",
              "3/8/20        518\n",
              "3/9/20        583\n",
              "3/10/20       959\n",
              "3/11/20      1281\n",
              "3/12/20      1663\n",
              "3/13/20      2179\n",
              "3/14/20      2727\n",
              "3/15/20      3499\n",
              "3/16/20      4632\n",
              "3/17/20      6421\n",
              "3/18/20      7783\n",
              "3/19/20     13778\n",
              "3/20/20     19279\n",
              "3/21/20     25600\n",
              "3/22/20     33276\n",
              "3/23/20     43847\n",
              "3/24/20     53740\n",
              "3/25/20     65778\n",
              "3/26/20     83836\n",
              "3/27/20    101657\n",
              "3/28/20    121478\n",
              "3/29/20    140909\n",
              "3/30/20    161837\n",
              "3/31/20    188172\n",
              "4/1/20     213372\n",
              "4/2/20     243616\n",
              "4/3/20     275586\n",
              "4/4/20     308850\n",
              "4/5/20     337072\n",
              "4/6/20     366667\n",
              "Name: US, dtype: int64"
            ]
          },
          "metadata": {
            "tags": []
          },
          "execution_count": 7
        }
      ]
    },
    {
      "cell_type": "markdown",
      "metadata": {
        "id": "8i2tcjrCakKY",
        "colab_type": "text"
      },
      "source": [
        "## Extracting California data"
      ]
    },
    {
      "cell_type": "markdown",
      "metadata": {
        "id": "BwrEiE24JYgS",
        "colab_type": "text"
      },
      "source": [
        "The dataset is stopped showing the California Data"
      ]
    },
    {
      "cell_type": "code",
      "metadata": {
        "id": "KExGBSPYLLNL",
        "colab_type": "code",
        "outputId": "c3ac8b62-2758-4b17-ce7c-4ce11d17ac0d",
        "colab": {
          "base_uri": "https://localhost:8080/",
          "height": 34
        }
      },
      "source": [
        "ts_us_list = conf_df[(conf_df['Country/Region'] == 'US')]\n",
        "ts_us_list.shape[0]"
      ],
      "execution_count": 8,
      "outputs": [
        {
          "output_type": "execute_result",
          "data": {
            "text/plain": [
              "1"
            ]
          },
          "metadata": {
            "tags": []
          },
          "execution_count": 8
        }
      ]
    },
    {
      "cell_type": "code",
      "metadata": {
        "id": "vdQ5RI5cW5ju",
        "colab_type": "code",
        "colab": {}
      },
      "source": [
        "#ts_ca = get_list('Province/State', 'California', conf_df)\n",
        "#start_ca = ts_ca.index[0]\n",
        "#d_ca = range(ts_ca.count())\n",
        "#ts_ca"
      ],
      "execution_count": 0,
      "outputs": []
    },
    {
      "cell_type": "markdown",
      "metadata": {
        "id": "JcEeg62dantG",
        "colab_type": "text"
      },
      "source": [
        "## Extracting Italy data"
      ]
    },
    {
      "cell_type": "code",
      "metadata": {
        "id": "_rUE3G4EXMxs",
        "colab_type": "code",
        "outputId": "3ce8e93a-87b0-43e8-fd27-0b42cf10ec98",
        "colab": {
          "base_uri": "https://localhost:8080/",
          "height": 782
        }
      },
      "source": [
        "ts_it = get_list('Country/Region', 'Italy', conf_df)\n",
        "start_it = ts_it.index[0]\n",
        "d_it = range(ts_it.count())\n",
        "ts_it"
      ],
      "execution_count": 10,
      "outputs": [
        {
          "output_type": "execute_result",
          "data": {
            "text/plain": [
              "2/23/20       155\n",
              "2/24/20       229\n",
              "2/25/20       322\n",
              "2/26/20       453\n",
              "2/27/20       655\n",
              "2/28/20       888\n",
              "2/29/20      1128\n",
              "3/1/20       1694\n",
              "3/2/20       2036\n",
              "3/3/20       2502\n",
              "3/4/20       3089\n",
              "3/5/20       3858\n",
              "3/6/20       4636\n",
              "3/7/20       5883\n",
              "3/8/20       7375\n",
              "3/9/20       9172\n",
              "3/10/20     10149\n",
              "3/11/20     12462\n",
              "3/12/20     12462\n",
              "3/13/20     17660\n",
              "3/14/20     21157\n",
              "3/15/20     24747\n",
              "3/16/20     27980\n",
              "3/17/20     31506\n",
              "3/18/20     35713\n",
              "3/19/20     41035\n",
              "3/20/20     47021\n",
              "3/21/20     53578\n",
              "3/22/20     59138\n",
              "3/23/20     63927\n",
              "3/24/20     69176\n",
              "3/25/20     74386\n",
              "3/26/20     80589\n",
              "3/27/20     86498\n",
              "3/28/20     92472\n",
              "3/29/20     97689\n",
              "3/30/20    101739\n",
              "3/31/20    105792\n",
              "4/1/20     110574\n",
              "4/2/20     115242\n",
              "4/3/20     119827\n",
              "4/4/20     124632\n",
              "4/5/20     128948\n",
              "4/6/20     132547\n",
              "Name: Italy, dtype: int64"
            ]
          },
          "metadata": {
            "tags": []
          },
          "execution_count": 10
        }
      ]
    },
    {
      "cell_type": "markdown",
      "metadata": {
        "id": "pEGhyJS_08xn",
        "colab_type": "text"
      },
      "source": [
        "## Extracting data for China (as reference)"
      ]
    },
    {
      "cell_type": "code",
      "metadata": {
        "id": "BtTQJYGXYCVM",
        "colab_type": "code",
        "outputId": "6019cea2-2db5-4028-be65-b34169de389c",
        "colab": {
          "base_uri": "https://localhost:8080/",
          "height": 221
        }
      },
      "source": [
        "ts_cn = get_list('Country/Region', 'China', conf_df)\n",
        "start_cn = ts_cn.index[0]\n",
        "d_cn = range(ts_cn.count())\n",
        "ts_cn"
      ],
      "execution_count": 11,
      "outputs": [
        {
          "output_type": "execute_result",
          "data": {
            "text/plain": [
              "1/22/20      548\n",
              "1/23/20      643\n",
              "1/24/20      920\n",
              "1/25/20     1406\n",
              "1/26/20     2075\n",
              "           ...  \n",
              "4/2/20     82432\n",
              "4/3/20     82511\n",
              "4/4/20     82543\n",
              "4/5/20     82602\n",
              "4/6/20     82665\n",
              "Name: China, Length: 76, dtype: int64"
            ]
          },
          "metadata": {
            "tags": []
          },
          "execution_count": 11
        }
      ]
    },
    {
      "cell_type": "markdown",
      "metadata": {
        "id": "btYbvAh30r_q",
        "colab_type": "text"
      },
      "source": [
        "## Curve fitting"
      ]
    },
    {
      "cell_type": "code",
      "metadata": {
        "id": "HHvetc7e95lb",
        "colab_type": "code",
        "colab": {}
      },
      "source": [
        "from scipy.optimize import curve_fit"
      ],
      "execution_count": 0,
      "outputs": []
    },
    {
      "cell_type": "markdown",
      "metadata": {
        "id": "uhikyPc6c5g5",
        "colab_type": "text"
      },
      "source": [
        "### Exponential curve fitting for the early stage"
      ]
    },
    {
      "cell_type": "markdown",
      "metadata": {
        "id": "smLHwzin9MkP",
        "colab_type": "text"
      },
      "source": [
        "We use exponential function with the consideration of no signs of flattening emergence."
      ]
    },
    {
      "cell_type": "code",
      "metadata": {
        "id": "3hGqXD7rAdan",
        "colab_type": "code",
        "colab": {}
      },
      "source": [
        "# exponential curve fitting\n",
        "def func_exp(x, a, b, c):\n",
        "  return a * np.exp(b * x) + c"
      ],
      "execution_count": 0,
      "outputs": []
    },
    {
      "cell_type": "code",
      "metadata": {
        "id": "REMGWV3uFsnw",
        "colab_type": "code",
        "outputId": "179bbb8f-1064-41b4-de01-fcb8924728a9",
        "colab": {
          "base_uri": "https://localhost:8080/",
          "height": 34
        }
      },
      "source": [
        "popt_us, pcov_us = curve_fit(func_exp, d_us, ts_us)\n",
        "popt_us"
      ],
      "execution_count": 14,
      "outputs": [
        {
          "output_type": "execute_result",
          "data": {
            "text/plain": [
              "array([ 6.92630016e+03,  1.23587517e-01, -1.86419253e+04])"
            ]
          },
          "metadata": {
            "tags": []
          },
          "execution_count": 14
        }
      ]
    },
    {
      "cell_type": "code",
      "metadata": {
        "id": "Ub5mCOwIIh7B",
        "colab_type": "code",
        "outputId": "a0eb7b03-acb6-47e9-a7c7-de660df24193",
        "colab": {
          "base_uri": "https://localhost:8080/",
          "height": 34
        }
      },
      "source": [
        "popt_it, pcov_it = curve_fit(func_exp, d_it, ts_it)\n",
        "popt_it"
      ],
      "execution_count": 15,
      "outputs": [
        {
          "output_type": "execute_result",
          "data": {
            "text/plain": [
              "array([ 2.29511618e+04,  4.74282353e-02, -3.16604480e+04])"
            ]
          },
          "metadata": {
            "tags": []
          },
          "execution_count": 15
        }
      ]
    },
    {
      "cell_type": "markdown",
      "metadata": {
        "id": "ZrPKV7UBdDSW",
        "colab_type": "text"
      },
      "source": [
        "### Logistic curve fitting to capture the flattening behavior"
      ]
    },
    {
      "cell_type": "markdown",
      "metadata": {
        "id": "ldYYgmw2s7Wb",
        "colab_type": "text"
      },
      "source": [
        "A simple assumption is that the infection case number changing rate is proportional to the number of infected people and the number of susceptible people. In mathematics, we can write:\n",
        "\n",
        "$$\n",
        "  \\frac{dI}{dt} = b I (1-I)\n",
        "$$\n",
        "\n",
        "where $I$ is the percentage of infective people in the population, $b$ is the social contact rate per person per day. \n",
        "\n",
        "The integration solution of the ODE will be in a form of logistic function:\n",
        "\n",
        "$$\n",
        "I = \\displaystyle\\frac{N}{1+e^{a-bt}}\n",
        "$$"
      ]
    },
    {
      "cell_type": "code",
      "metadata": {
        "id": "Ld-Yy5n1W32w",
        "colab_type": "code",
        "colab": {}
      },
      "source": [
        "def func(x, N, a, b):\n",
        "  return N/(1.0+np.exp(a-b*x))"
      ],
      "execution_count": 0,
      "outputs": []
    },
    {
      "cell_type": "code",
      "metadata": {
        "id": "P96JRzNNXTkS",
        "colab_type": "code",
        "outputId": "67fea541-dca2-41c7-90cd-336383821ef7",
        "colab": {
          "base_uri": "https://localhost:8080/",
          "height": 34
        }
      },
      "source": [
        "popt_us_log, pcov_us_log = curve_fit(func, d_us, ts_us)\n",
        "popt_us_log"
      ],
      "execution_count": 17,
      "outputs": [
        {
          "output_type": "execute_result",
          "data": {
            "text/plain": [
              "array([5.23515788e+05, 6.81213963e+00, 2.31279226e-01])"
            ]
          },
          "metadata": {
            "tags": []
          },
          "execution_count": 17
        }
      ]
    },
    {
      "cell_type": "code",
      "metadata": {
        "id": "0Hj_QfLJX9Nz",
        "colab_type": "code",
        "outputId": "b625efbd-eacb-4b95-fbd6-4767f79f9593",
        "colab": {
          "base_uri": "https://localhost:8080/",
          "height": 34
        }
      },
      "source": [
        "popt_it_log, pcov_it_log = curve_fit(func, d_it, ts_it)\n",
        "popt_it_log"
      ],
      "execution_count": 18,
      "outputs": [
        {
          "output_type": "execute_result",
          "data": {
            "text/plain": [
              "array([1.45280120e+05, 5.17791627e+00, 1.69033692e-01])"
            ]
          },
          "metadata": {
            "tags": []
          },
          "execution_count": 18
        }
      ]
    },
    {
      "cell_type": "code",
      "metadata": {
        "id": "z4ifX1AWjQN4",
        "colab_type": "code",
        "outputId": "94003a1d-1bfd-42a3-f199-b7deb998d768",
        "colab": {
          "base_uri": "https://localhost:8080/",
          "height": 68
        }
      },
      "source": [
        "popt_cn_log, pcov_cn_log = curve_fit(func, d_cn, ts_cn)\n",
        "popt_cn_log"
      ],
      "execution_count": 19,
      "outputs": [
        {
          "output_type": "stream",
          "text": [
            "/usr/local/lib/python3.6/dist-packages/ipykernel_launcher.py:2: RuntimeWarning: overflow encountered in exp\n",
            "  \n"
          ],
          "name": "stderr"
        },
        {
          "output_type": "execute_result",
          "data": {
            "text/plain": [
              "array([8.14029362e+04, 3.91020873e+00, 2.19228992e-01])"
            ]
          },
          "metadata": {
            "tags": []
          },
          "execution_count": 19
        }
      ]
    },
    {
      "cell_type": "markdown",
      "metadata": {
        "id": "po7ISazdhlIW",
        "colab_type": "text"
      },
      "source": [
        "## Rough estimation for $R_0$"
      ]
    },
    {
      "cell_type": "markdown",
      "metadata": {
        "id": "4oan_jOHiJSM",
        "colab_type": "text"
      },
      "source": [
        "According to the SEIR model ([1](https://en.wikipedia.org/wiki/Basic_reproduction_number), [2](https://en.wikipedia.org/wiki/Compartmental_models_in_epidemiology#The_SEIR_model)):\n",
        "\n",
        "$R_0 = 1 + K (T_e + T_i) + K^2 T_e T_i$   \n",
        "\n",
        "where\n",
        "\n",
        "*   $K = \\displaystyle \\frac{d\\ln(N)}{dt}$\n",
        "*   $T_e$ is the duration of the exposed state \n",
        "*   $T_i$ is the duration of the latent infectious state\n"
      ]
    },
    {
      "cell_type": "code",
      "metadata": {
        "id": "ULyRsZgshqg5",
        "colab_type": "code",
        "colab": {}
      },
      "source": [
        "def R0(K, T_e, T_i):\n",
        "  return 1 + K * (T_e + T_i) + K * K * T_e * T_i"
      ],
      "execution_count": 0,
      "outputs": []
    },
    {
      "cell_type": "markdown",
      "metadata": {
        "id": "8y4yxyq8i6d0",
        "colab_type": "text"
      },
      "source": [
        "According to the [paper](https://annals.org/aim/fullarticle/2762808/incubation-period-coronavirus-disease-2019-covid-19-from-publicly-reported), 97.5% of those who develop symptoms will do so within 11.5 days (CI, 8.2 to 15.6 days) of infection, thus we assume $T_i \\approx 11.5$. Also assuming $T_e \\approx 0.1$ "
      ]
    },
    {
      "cell_type": "code",
      "metadata": {
        "id": "VrDS0WHEk1Bf",
        "colab_type": "code",
        "outputId": "38e74ab1-f3d7-4f3e-93f0-bc7e84b3532b",
        "colab": {
          "base_uri": "https://localhost:8080/",
          "height": 34
        }
      },
      "source": [
        "R0_us = R0(popt_us[1], 11.5, 0.1)\n",
        "R0_us"
      ],
      "execution_count": 21,
      "outputs": [
        {
          "output_type": "execute_result",
          "data": {
            "text/plain": [
              "2.451180151825603"
            ]
          },
          "metadata": {
            "tags": []
          },
          "execution_count": 21
        }
      ]
    },
    {
      "cell_type": "code",
      "metadata": {
        "id": "VY59sb9hlKUN",
        "colab_type": "code",
        "outputId": "0a417e98-ab3e-4b77-b16d-54eda99cb7ba",
        "colab": {
          "base_uri": "https://localhost:8080/",
          "height": 34
        }
      },
      "source": [
        "R0_it = R0(popt_it[1], 11.5, 0.1)\n",
        "R0_it"
      ],
      "execution_count": 22,
      "outputs": [
        {
          "output_type": "execute_result",
          "data": {
            "text/plain": [
              "1.5527543823492345"
            ]
          },
          "metadata": {
            "tags": []
          },
          "execution_count": 22
        }
      ]
    },
    {
      "cell_type": "markdown",
      "metadata": {
        "id": "HwPxI5SIzHf6",
        "colab_type": "text"
      },
      "source": [
        "If assuming $K=b$, we have:"
      ]
    },
    {
      "cell_type": "code",
      "metadata": {
        "id": "Y-Q4Zvr5w6bC",
        "colab_type": "code",
        "outputId": "43ad02f8-e732-46b0-ba1b-c2dbd7234122",
        "colab": {
          "base_uri": "https://localhost:8080/",
          "height": 34
        }
      },
      "source": [
        "R0_us_log = R0(popt_us_log[2], 11.5, 0.1)\n",
        "R0_us_log"
      ],
      "execution_count": 23,
      "outputs": [
        {
          "output_type": "execute_result",
          "data": {
            "text/plain": [
              "3.7443526134497365"
            ]
          },
          "metadata": {
            "tags": []
          },
          "execution_count": 23
        }
      ]
    },
    {
      "cell_type": "code",
      "metadata": {
        "id": "l7IOuWDvxFso",
        "colab_type": "code",
        "outputId": "5eb0b68b-5463-4611-cb71-ec577aafe87a",
        "colab": {
          "base_uri": "https://localhost:8080/",
          "height": 34
        }
      },
      "source": [
        "R0_it_log = R0(popt_it_log[2], 11.5, 0.1)\n",
        "R0_it_log"
      ],
      "execution_count": 24,
      "outputs": [
        {
          "output_type": "execute_result",
          "data": {
            "text/plain": [
              "2.993649076815869"
            ]
          },
          "metadata": {
            "tags": []
          },
          "execution_count": 24
        }
      ]
    },
    {
      "cell_type": "markdown",
      "metadata": {
        "id": "mA-E5-uq04Zq",
        "colab_type": "text"
      },
      "source": [
        "## Plotting"
      ]
    },
    {
      "cell_type": "code",
      "metadata": {
        "id": "vo-Hm3OK1Lkx",
        "colab_type": "code",
        "colab": {}
      },
      "source": [
        "%matplotlib inline\n",
        "import matplotlib.patches as mpatches\n",
        "import matplotlib.pyplot as plt\n",
        "plt.style.use('seaborn-whitegrid')"
      ],
      "execution_count": 0,
      "outputs": []
    },
    {
      "cell_type": "code",
      "metadata": {
        "id": "3Fh0Nu0PA2Wv",
        "colab_type": "code",
        "outputId": "ee863d48-a33f-4745-912f-3df671ef3054",
        "colab": {
          "base_uri": "https://localhost:8080/",
          "height": 502
        }
      },
      "source": [
        "d_fn = range(ts_it.count()+3)\n",
        "d_fn_us = range(ts_us.count()+3)\n",
        "d_fn_cn = range(ts_cn.count())\n",
        "\n",
        "plt.figure(figsize=(11, 8))\n",
        "plt.scatter(d_it, ts_it, color='black', linewidth=5, label='Italy: started from '+start_it)\n",
        "plt.scatter(d_us, ts_us, color='red', linewidth=5, label='USA: started from '+start_us)\n",
        "#plt.scatter(d_ca, ts_ca, color='blue', linewidth=5, label='CA: started from '+start_ca)\n",
        "plt.plot(d_fn_cn, func(d_fn_cn, *popt_it_log), 'g--', linewidth=3, label=\"Fitting curve from Italy data\")\n",
        "plt.plot(d_fn_cn, func(d_fn_cn, *popt_us_log), 'b--', linewidth=3, label=\"Fitting curve from US data\")\n",
        "plt.scatter(d_cn, ts_cn, color='yellow', linewidth=4, label='China: started from '+start_cn)\n",
        "plt.plot(d_fn_cn, func(d_fn_cn, *popt_cn_log), 'c--', linewidth=3, label=\"Fitting curve from China data\")\n",
        "\n",
        "\n",
        "plt.xticks(np.arange(min(d_fn_cn), max(d_fn_cn)+1, 7), np.arange(min(d_fn_cn)/7, max(d_fn_cn)/7+1, 1, dtype=int), fontsize=\"12\")\n",
        "plt.xlabel(\"Number of WEEKS from the start dates of having >140 infected people\", fontsize='18')\n",
        "plt.ylabel(\"Number of confirmed infected people\", fontsize='18')\n",
        "plt.legend(loc='upper left', fontsize=16)\n",
        "plt.text(38.5, 300000, ' Scatter Data is collected \\n and ended up to '+today+\" \", fontsize=20, bbox=dict(facecolor='white', alpha=1))\n",
        "plt.text(30, 200000, '$R_0$ = '+\"{:.2f}\".format(R0_us_log), fontsize=20, bbox=dict(facecolor='white', alpha=1))\n",
        "plt.text(29, 19000, '$R_0$ = '+\"{:.2f}\".format(R0_it_log), fontsize=20, bbox=dict(facecolor='white', alpha=1))\n",
        "plt.text(60, popt_us_log[0]-25000, 'Max$\\\\approx$'+str(int(popt_us_log[0])), fontsize=18)\n",
        "plt.text(60, popt_it_log[0]+10000, \"Max$\\\\approx$\"+str(int(popt_it_log[0])), fontsize=18)\n",
        "plt.text(60, popt_cn_log[0]-25000, \"Max$\\\\approx$\"+str(int(popt_cn_log[0])), fontsize=18)\n",
        "plt.show()"
      ],
      "execution_count": 26,
      "outputs": [
        {
          "output_type": "display_data",
          "data": {
            "image/png": "[encoded data removed]",
            "text/plain": [
              "<Figure size 792x576 with 1 Axes>"
            ]
          },
          "metadata": {
            "tags": []
          }
        }
      ]
    },
    {
      "cell_type": "markdown",
      "metadata": {
        "id": "xWIBKQbIaPYI",
        "colab_type": "text"
      },
      "source": [
        "## Normalized by Population"
      ]
    },
    {
      "cell_type": "code",
      "metadata": {
        "id": "E5eZ2MrAafjJ",
        "colab_type": "code",
        "outputId": "9273ff66-421a-4460-f5fa-88833c642a84",
        "colab": {
          "base_uri": "https://localhost:8080/",
          "height": 536
        }
      },
      "source": [
        "# population in MILLION from crude google search\n",
        "us_population =  327.2  * 10**6\n",
        "it_population =   60.48 * 10**6\n",
        "#ca_population =   39.56 * 10**6\n",
        "cn_population = 1386    * 10**6\n",
        "\n",
        "d_fn = range(ts_it.count()+2)\n",
        "\n",
        "plt.figure(figsize=(10, 8))\n",
        "plt.scatter(d_it, 100*ts_it/it_population, color='black', linewidth=5, label='Italy: started from '+start_it)\n",
        "plt.scatter(d_us, 100*ts_us/us_population, color='red', linewidth=5, label='USA: started from '+start_us)\n",
        "#plt.scatter(d_ca, 100*ts_ca/ca_population, color='blue', linewidth=5, label='California: started from '+start_ca)\n",
        "plt.plot(d_fn, 100*func(d_fn, *popt_it)/it_population, 'g--', linewidth=3, label=\"Fitting curve from Italy data\")\n",
        "#plt.scatter(d_cn, ts_cn, color='yellow', label='China: started from Jan 22')\n",
        "\n",
        "plt.xticks(d_fn, fontsize=\"12\")\n",
        "plt.xlabel(\"Number of DAYS from the start dates of having >140 infected people\", fontsize='18')\n",
        "plt.ylabel(\"% of confirmed infected normalized by population\", fontsize='18')\n",
        "plt.legend(loc='upper left', fontsize=21)\n",
        "#plt.text(0.5, 22000, ' Scatter Data is collected \\n and ended up to '+today+\" \", fontsize=27, bbox=dict(facecolor='white', alpha=1))\n",
        "plt.yscale('log')"
      ],
      "execution_count": 0,
      "outputs": [
        {
          "output_type": "stream",
          "text": [
            "/usr/local/lib/python3.6/dist-packages/ipykernel_launcher.py:2: RuntimeWarning: overflow encountered in exp\n",
            "  \n"
          ],
          "name": "stderr"
        },
        {
          "output_type": "display_data",
          "data": {
            "image/png": "[encoded data removed]",
            "text/plain": [
              "<Figure size 720x576 with 1 Axes>"
            ]
          },
          "metadata": {
            "tags": []
          }
        }
      ]
    },
    {
      "cell_type": "markdown",
      "metadata": {
        "id": "zJShJPfUPvFD",
        "colab_type": "text"
      },
      "source": [
        "# Inspecting Lagged Days"
      ]
    },
    {
      "cell_type": "code",
      "metadata": {
        "id": "ocj3uSXdgqKL",
        "colab_type": "code",
        "outputId": "c0c8e261-ec23-4a91-931c-2742386e0af2",
        "colab": {
          "base_uri": "https://localhost:8080/",
          "height": 297
        }
      },
      "source": [
        "data = [{'Country': \"Italy\",          'Population': 60461826}, \n",
        "        {'Country':\"Germany\",         'Population': 83783942},\n",
        "        {'Country':\"Sweden\",          'Population': 10099265},\n",
        "        {'Country':\"Spain\",           'Population': 46754778},\n",
        "        {'Country':\"Belgium\",         'Population': 11589623},\n",
        "        {'Country':\"Switzerland\",     'Population': 8654622},\n",
        "        {'Country':\"United Kingdom\",  'Population': 67886011},\n",
        "        {'Country':\"US\",              'Population': 331002651},\n",
        "        ]\n",
        "df = pd.DataFrame(data)\n",
        "df"
      ],
      "execution_count": 0,
      "outputs": [
        {
          "output_type": "execute_result",
          "data": {
            "text/html": [
              "<div>\n",
              "<style scoped>\n",
              "    .dataframe tbody tr th:only-of-type {\n",
              "        vertical-align: middle;\n",
              "    }\n",
              "\n",
              "    .dataframe tbody tr th {\n",
              "        vertical-align: top;\n",
              "    }\n",
              "\n",
              "    .dataframe thead th {\n",
              "        text-align: right;\n",
              "    }\n",
              "</style>\n",
              "<table border=\"1\" class=\"dataframe\">\n",
              "  <thead>\n",
              "    <tr style=\"text-align: right;\">\n",
              "      <th></th>\n",
              "      <th>Country</th>\n",
              "      <th>Population</th>\n",
              "    </tr>\n",
              "  </thead>\n",
              "  <tbody>\n",
              "    <tr>\n",
              "      <th>0</th>\n",
              "      <td>Italy</td>\n",
              "      <td>60461826</td>\n",
              "    </tr>\n",
              "    <tr>\n",
              "      <th>1</th>\n",
              "      <td>Germany</td>\n",
              "      <td>83783942</td>\n",
              "    </tr>\n",
              "    <tr>\n",
              "      <th>2</th>\n",
              "      <td>Sweden</td>\n",
              "      <td>10099265</td>\n",
              "    </tr>\n",
              "    <tr>\n",
              "      <th>3</th>\n",
              "      <td>Spain</td>\n",
              "      <td>46754778</td>\n",
              "    </tr>\n",
              "    <tr>\n",
              "      <th>4</th>\n",
              "      <td>Belgium</td>\n",
              "      <td>11589623</td>\n",
              "    </tr>\n",
              "    <tr>\n",
              "      <th>5</th>\n",
              "      <td>Switzerland</td>\n",
              "      <td>8654622</td>\n",
              "    </tr>\n",
              "    <tr>\n",
              "      <th>6</th>\n",
              "      <td>United Kingdom</td>\n",
              "      <td>67886011</td>\n",
              "    </tr>\n",
              "    <tr>\n",
              "      <th>7</th>\n",
              "      <td>US</td>\n",
              "      <td>331002651</td>\n",
              "    </tr>\n",
              "  </tbody>\n",
              "</table>\n",
              "</div>"
            ],
            "text/plain": [
              "          Country  Population\n",
              "0           Italy    60461826\n",
              "1         Germany    83783942\n",
              "2          Sweden    10099265\n",
              "3           Spain    46754778\n",
              "4         Belgium    11589623\n",
              "5     Switzerland     8654622\n",
              "6  United Kingdom    67886011\n",
              "7              US   331002651"
            ]
          },
          "metadata": {
            "tags": []
          },
          "execution_count": 28
        }
      ]
    },
    {
      "cell_type": "code",
      "metadata": {
        "id": "LlUzPTI80jE9",
        "colab_type": "code",
        "outputId": "09bf0828-48d3-4040-820c-872d210acea6",
        "colab": {
          "base_uri": "https://localhost:8080/",
          "height": 297
        }
      },
      "source": [
        "# UN population data (unit: thousand)\n",
        "\n",
        "un_pop = pd.read_excel('https://population.un.org/wpp/Download/Files/1_Indicators%20(Standard)/EXCEL_FILES/1_Population/WPP2019_POP_F01_1_TOTAL_POPULATION_BOTH_SEXES.xlsx', skiprows=16)\n",
        "\n",
        "def un_population(country, year='2020'):\n",
        "  n = un_pop[ un_pop['Region, subregion, country or area *']==country].iloc[0][year] * 1000\n",
        "  return int(n)\n",
        "\n",
        "data_un = [{'Country': \"Italy\",          'Population': un_population('Italy')}, \n",
        "        {'Country':\"Germany\",         'Population': un_population('Germany')},\n",
        "        {'Country':\"Sweden\",          'Population': un_population('Sweden')},\n",
        "        {'Country':\"Spain\",           'Population': un_population('Spain')},\n",
        "        {'Country':\"Belgium\",         'Population': un_population('Belgium')},\n",
        "        {'Country':\"Switzerland\",     'Population': un_population('Switzerland')},\n",
        "        {'Country':\"United Kingdom\",  'Population': un_population('United Kingdom')},\n",
        "        {'Country':\"US\",              'Population': un_population('United States of America')},\n",
        "       ]\n",
        "df = pd.DataFrame(data_un)\n",
        "df"
      ],
      "execution_count": 0,
      "outputs": [
        {
          "output_type": "execute_result",
          "data": {
            "text/html": [
              "<div>\n",
              "<style scoped>\n",
              "    .dataframe tbody tr th:only-of-type {\n",
              "        vertical-align: middle;\n",
              "    }\n",
              "\n",
              "    .dataframe tbody tr th {\n",
              "        vertical-align: top;\n",
              "    }\n",
              "\n",
              "    .dataframe thead th {\n",
              "        text-align: right;\n",
              "    }\n",
              "</style>\n",
              "<table border=\"1\" class=\"dataframe\">\n",
              "  <thead>\n",
              "    <tr style=\"text-align: right;\">\n",
              "      <th></th>\n",
              "      <th>Country</th>\n",
              "      <th>Population</th>\n",
              "    </tr>\n",
              "  </thead>\n",
              "  <tbody>\n",
              "    <tr>\n",
              "      <th>0</th>\n",
              "      <td>Italy</td>\n",
              "      <td>60461828</td>\n",
              "    </tr>\n",
              "    <tr>\n",
              "      <th>1</th>\n",
              "      <td>Germany</td>\n",
              "      <td>83783945</td>\n",
              "    </tr>\n",
              "    <tr>\n",
              "      <th>2</th>\n",
              "      <td>Sweden</td>\n",
              "      <td>10099270</td>\n",
              "    </tr>\n",
              "    <tr>\n",
              "      <th>3</th>\n",
              "      <td>Spain</td>\n",
              "      <td>46754783</td>\n",
              "    </tr>\n",
              "    <tr>\n",
              "      <th>4</th>\n",
              "      <td>Belgium</td>\n",
              "      <td>11589616</td>\n",
              "    </tr>\n",
              "    <tr>\n",
              "      <th>5</th>\n",
              "      <td>Switzerland</td>\n",
              "      <td>8654618</td>\n",
              "    </tr>\n",
              "    <tr>\n",
              "      <th>6</th>\n",
              "      <td>United Kingdom</td>\n",
              "      <td>67886004</td>\n",
              "    </tr>\n",
              "    <tr>\n",
              "      <th>7</th>\n",
              "      <td>US</td>\n",
              "      <td>331002647</td>\n",
              "    </tr>\n",
              "  </tbody>\n",
              "</table>\n",
              "</div>"
            ],
            "text/plain": [
              "          Country  Population\n",
              "0           Italy    60461828\n",
              "1         Germany    83783945\n",
              "2          Sweden    10099270\n",
              "3           Spain    46754783\n",
              "4         Belgium    11589616\n",
              "5     Switzerland     8654618\n",
              "6  United Kingdom    67886004\n",
              "7              US   331002647"
            ]
          },
          "metadata": {
            "tags": []
          },
          "execution_count": 29
        }
      ]
    },
    {
      "cell_type": "code",
      "metadata": {
        "id": "rZJBQIKseSgH",
        "colab_type": "code",
        "outputId": "9d616009-6187-43b3-f00d-a3bc13111a51",
        "colab": {
          "base_uri": "https://localhost:8080/",
          "height": 297
        }
      },
      "source": [
        "days = []\n",
        "infect_latest = []\n",
        "infect_latest_norm = []\n",
        "for index, row in df.iterrows():\n",
        "  country = row['Country']\n",
        "  population = row['Population']\n",
        "  ts = get_list('Country/Region', country, conf_df)\n",
        "  infect_latest.append(ts[-1])\n",
        "  infect_latest_norm.append(ts[-1]/population)\n",
        "  days.append( ts.count() )\n",
        "d_max = max(days)\n",
        "df['Lagged_days'] = d_max - days\n",
        "df['Latest_infections'] = infect_latest\n",
        "df['Normalized_Latest_infections'] = infect_latest_norm\n",
        "df"
      ],
      "execution_count": 0,
      "outputs": [
        {
          "output_type": "execute_result",
          "data": {
            "text/html": [
              "<div>\n",
              "<style scoped>\n",
              "    .dataframe tbody tr th:only-of-type {\n",
              "        vertical-align: middle;\n",
              "    }\n",
              "\n",
              "    .dataframe tbody tr th {\n",
              "        vertical-align: top;\n",
              "    }\n",
              "\n",
              "    .dataframe thead th {\n",
              "        text-align: right;\n",
              "    }\n",
              "</style>\n",
              "<table border=\"1\" class=\"dataframe\">\n",
              "  <thead>\n",
              "    <tr style=\"text-align: right;\">\n",
              "      <th></th>\n",
              "      <th>Country</th>\n",
              "      <th>Population</th>\n",
              "      <th>Lagged_days</th>\n",
              "      <th>Latest_infections</th>\n",
              "      <th>Normalized_Latest_infections</th>\n",
              "    </tr>\n",
              "  </thead>\n",
              "  <tbody>\n",
              "    <tr>\n",
              "      <th>0</th>\n",
              "      <td>Italy</td>\n",
              "      <td>60461828</td>\n",
              "      <td>0</td>\n",
              "      <td>128948</td>\n",
              "      <td>0.002133</td>\n",
              "    </tr>\n",
              "    <tr>\n",
              "      <th>1</th>\n",
              "      <td>Germany</td>\n",
              "      <td>83783945</td>\n",
              "      <td>8</td>\n",
              "      <td>100123</td>\n",
              "      <td>0.001195</td>\n",
              "    </tr>\n",
              "    <tr>\n",
              "      <th>2</th>\n",
              "      <td>Sweden</td>\n",
              "      <td>10099270</td>\n",
              "      <td>13</td>\n",
              "      <td>6830</td>\n",
              "      <td>0.000676</td>\n",
              "    </tr>\n",
              "    <tr>\n",
              "      <th>3</th>\n",
              "      <td>Spain</td>\n",
              "      <td>46754783</td>\n",
              "      <td>9</td>\n",
              "      <td>131646</td>\n",
              "      <td>0.002816</td>\n",
              "    </tr>\n",
              "    <tr>\n",
              "      <th>4</th>\n",
              "      <td>Belgium</td>\n",
              "      <td>11589616</td>\n",
              "      <td>13</td>\n",
              "      <td>19691</td>\n",
              "      <td>0.001699</td>\n",
              "    </tr>\n",
              "    <tr>\n",
              "      <th>5</th>\n",
              "      <td>Switzerland</td>\n",
              "      <td>8654618</td>\n",
              "      <td>12</td>\n",
              "      <td>21100</td>\n",
              "      <td>0.002438</td>\n",
              "    </tr>\n",
              "    <tr>\n",
              "      <th>6</th>\n",
              "      <td>United Kingdom</td>\n",
              "      <td>67886004</td>\n",
              "      <td>12</td>\n",
              "      <td>48436</td>\n",
              "      <td>0.000713</td>\n",
              "    </tr>\n",
              "    <tr>\n",
              "      <th>7</th>\n",
              "      <td>US</td>\n",
              "      <td>331002647</td>\n",
              "      <td>10</td>\n",
              "      <td>337072</td>\n",
              "      <td>0.001018</td>\n",
              "    </tr>\n",
              "  </tbody>\n",
              "</table>\n",
              "</div>"
            ],
            "text/plain": [
              "          Country  Population  ...  Latest_infections  Normalized_Latest_infections\n",
              "0           Italy    60461828  ...             128948                      0.002133\n",
              "1         Germany    83783945  ...             100123                      0.001195\n",
              "2          Sweden    10099270  ...               6830                      0.000676\n",
              "3           Spain    46754783  ...             131646                      0.002816\n",
              "4         Belgium    11589616  ...              19691                      0.001699\n",
              "5     Switzerland     8654618  ...              21100                      0.002438\n",
              "6  United Kingdom    67886004  ...              48436                      0.000713\n",
              "7              US   331002647  ...             337072                      0.001018\n",
              "\n",
              "[8 rows x 5 columns]"
            ]
          },
          "metadata": {
            "tags": []
          },
          "execution_count": 30
        }
      ]
    },
    {
      "cell_type": "code",
      "metadata": {
        "id": "SvM-ur6UeboD",
        "colab_type": "code",
        "colab": {}
      },
      "source": [
        ""
      ],
      "execution_count": 0,
      "outputs": []
    }
  ]
}