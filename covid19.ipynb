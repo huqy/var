{
  "nbformat": 4,
  "nbformat_minor": 0,
  "metadata": {
    "colab": {
      "name": "covid19_scratch.ipynb",
      "provenance": [],
      "collapsed_sections": [],
      "toc_visible": true
    },
    "kernelspec": {
      "name": "python3",
      "display_name": "Python 3"
    }
  },
  "cells": [
    {
      "cell_type": "markdown",
      "metadata": {
        "id": "mEtWVXFsFojj",
        "colab_type": "text"
      },
      "source": [
        "##### Copyright 2020 Qiyang Hu & Shao-Ching Huang"
      ]
    },
    {
      "cell_type": "code",
      "metadata": {
        "id": "qzQZkoyZF2Ng",
        "colab_type": "code",
        "colab": {}
      },
      "source": [
        "#@title Licensed under MIT License (the \"License\");\n",
        "# you may not use this file except in compliance with the License.\n",
        "# You may obtain a copy of the License at\n",
        "#\n",
        "# https://huqy.github.io/var/LICENSE.md\n",
        "#\n",
        "# Unless required by applicable law or agreed to in writing, software\n",
        "# distributed under the License is distributed on an \"AS IS\" BASIS,\n",
        "# WITHOUT WARRANTIES OR CONDITIONS OF ANY KIND, either express or implied.\n",
        "# See the License for the specific language governing permissions and\n",
        "# limitations under the License."
      ],
      "execution_count": 0,
      "outputs": []
    },
    {
      "cell_type": "markdown",
      "metadata": {
        "id": "Vh6tN26NaFZL",
        "colab_type": "text"
      },
      "source": [
        "# Getting raw data"
      ]
    },
    {
      "cell_type": "markdown",
      "metadata": {
        "id": "hbpFtaXeaMKb",
        "colab_type": "text"
      },
      "source": [
        "2019 Novel Coronavirus COVID-19 (2019-nCoV) Data Repository by Johns Hopkins CSSE ([source](https://github.com/CSSEGISandData/COVID-19))"
      ]
    },
    {
      "cell_type": "code",
      "metadata": {
        "id": "JvYazE2PwwKD",
        "colab_type": "code",
        "colab": {}
      },
      "source": [
        "import pandas as pd\n",
        "import numpy as np"
      ],
      "execution_count": 0,
      "outputs": []
    },
    {
      "cell_type": "code",
      "metadata": {
        "id": "1r8mYSvrw6T_",
        "colab_type": "code",
        "outputId": "3a0384af-f7f8-4d81-9970-272d6248db5a",
        "colab": {
          "base_uri": "https://localhost:8080/",
          "height": 224
        }
      },
      "source": [
        "conf_df = pd.read_csv('https://raw.githubusercontent.com/CSSEGISandData/COVID-19/master/csse_covid_19_data/csse_covid_19_time_series/time_series_19-covid-Confirmed.csv')\n",
        "conf_df.head()"
      ],
      "execution_count": 0,
      "outputs": [
        {
          "output_type": "execute_result",
          "data": {
            "text/html": [
              "<div>\n",
              "<style scoped>\n",
              "    .dataframe tbody tr th:only-of-type {\n",
              "        vertical-align: middle;\n",
              "    }\n",
              "\n",
              "    .dataframe tbody tr th {\n",
              "        vertical-align: top;\n",
              "    }\n",
              "\n",
              "    .dataframe thead th {\n",
              "        text-align: right;\n",
              "    }\n",
              "</style>\n",
              "<table border=\"1\" class=\"dataframe\">\n",
              "  <thead>\n",
              "    <tr style=\"text-align: right;\">\n",
              "      <th></th>\n",
              "      <th>Province/State</th>\n",
              "      <th>Country/Region</th>\n",
              "      <th>Lat</th>\n",
              "      <th>Long</th>\n",
              "      <th>1/22/20</th>\n",
              "      <th>1/23/20</th>\n",
              "      <th>1/24/20</th>\n",
              "      <th>1/25/20</th>\n",
              "      <th>1/26/20</th>\n",
              "      <th>1/27/20</th>\n",
              "      <th>1/28/20</th>\n",
              "      <th>1/29/20</th>\n",
              "      <th>1/30/20</th>\n",
              "      <th>1/31/20</th>\n",
              "      <th>2/1/20</th>\n",
              "      <th>2/2/20</th>\n",
              "      <th>2/3/20</th>\n",
              "      <th>2/4/20</th>\n",
              "      <th>2/5/20</th>\n",
              "      <th>2/6/20</th>\n",
              "      <th>2/7/20</th>\n",
              "      <th>2/8/20</th>\n",
              "      <th>2/9/20</th>\n",
              "      <th>2/10/20</th>\n",
              "      <th>2/11/20</th>\n",
              "      <th>2/12/20</th>\n",
              "      <th>2/13/20</th>\n",
              "      <th>2/14/20</th>\n",
              "      <th>2/15/20</th>\n",
              "      <th>2/16/20</th>\n",
              "      <th>2/17/20</th>\n",
              "      <th>2/18/20</th>\n",
              "      <th>2/19/20</th>\n",
              "      <th>2/20/20</th>\n",
              "      <th>2/21/20</th>\n",
              "      <th>2/22/20</th>\n",
              "      <th>2/23/20</th>\n",
              "      <th>2/24/20</th>\n",
              "      <th>2/25/20</th>\n",
              "      <th>2/26/20</th>\n",
              "      <th>2/27/20</th>\n",
              "      <th>2/28/20</th>\n",
              "      <th>2/29/20</th>\n",
              "      <th>3/1/20</th>\n",
              "      <th>3/2/20</th>\n",
              "      <th>3/3/20</th>\n",
              "      <th>3/4/20</th>\n",
              "      <th>3/5/20</th>\n",
              "      <th>3/6/20</th>\n",
              "      <th>3/7/20</th>\n",
              "      <th>3/8/20</th>\n",
              "      <th>3/9/20</th>\n",
              "      <th>3/10/20</th>\n",
              "      <th>3/11/20</th>\n",
              "      <th>3/12/20</th>\n",
              "      <th>3/13/20</th>\n",
              "      <th>3/14/20</th>\n",
              "      <th>3/15/20</th>\n",
              "      <th>3/16/20</th>\n",
              "      <th>3/17/20</th>\n",
              "      <th>3/18/20</th>\n",
              "      <th>3/19/20</th>\n",
              "    </tr>\n",
              "  </thead>\n",
              "  <tbody>\n",
              "    <tr>\n",
              "      <th>0</th>\n",
              "      <td>NaN</td>\n",
              "      <td>Thailand</td>\n",
              "      <td>15.0000</td>\n",
              "      <td>101.0000</td>\n",
              "      <td>2</td>\n",
              "      <td>3</td>\n",
              "      <td>5</td>\n",
              "      <td>7</td>\n",
              "      <td>8</td>\n",
              "      <td>8</td>\n",
              "      <td>14</td>\n",
              "      <td>14</td>\n",
              "      <td>14</td>\n",
              "      <td>19</td>\n",
              "      <td>19</td>\n",
              "      <td>19</td>\n",
              "      <td>19</td>\n",
              "      <td>25</td>\n",
              "      <td>25</td>\n",
              "      <td>25</td>\n",
              "      <td>25</td>\n",
              "      <td>32</td>\n",
              "      <td>32</td>\n",
              "      <td>32</td>\n",
              "      <td>33</td>\n",
              "      <td>33</td>\n",
              "      <td>33</td>\n",
              "      <td>33</td>\n",
              "      <td>33</td>\n",
              "      <td>34</td>\n",
              "      <td>35</td>\n",
              "      <td>35</td>\n",
              "      <td>35</td>\n",
              "      <td>35</td>\n",
              "      <td>35</td>\n",
              "      <td>35</td>\n",
              "      <td>35</td>\n",
              "      <td>35</td>\n",
              "      <td>37</td>\n",
              "      <td>40</td>\n",
              "      <td>40</td>\n",
              "      <td>41</td>\n",
              "      <td>42</td>\n",
              "      <td>42</td>\n",
              "      <td>43</td>\n",
              "      <td>43</td>\n",
              "      <td>43</td>\n",
              "      <td>47</td>\n",
              "      <td>48</td>\n",
              "      <td>50</td>\n",
              "      <td>50</td>\n",
              "      <td>50</td>\n",
              "      <td>53</td>\n",
              "      <td>59</td>\n",
              "      <td>70</td>\n",
              "      <td>75</td>\n",
              "      <td>82</td>\n",
              "      <td>114</td>\n",
              "      <td>147</td>\n",
              "      <td>177</td>\n",
              "      <td>212</td>\n",
              "      <td>272</td>\n",
              "    </tr>\n",
              "    <tr>\n",
              "      <th>1</th>\n",
              "      <td>NaN</td>\n",
              "      <td>Japan</td>\n",
              "      <td>36.0000</td>\n",
              "      <td>138.0000</td>\n",
              "      <td>2</td>\n",
              "      <td>1</td>\n",
              "      <td>2</td>\n",
              "      <td>2</td>\n",
              "      <td>4</td>\n",
              "      <td>4</td>\n",
              "      <td>7</td>\n",
              "      <td>7</td>\n",
              "      <td>11</td>\n",
              "      <td>15</td>\n",
              "      <td>20</td>\n",
              "      <td>20</td>\n",
              "      <td>20</td>\n",
              "      <td>22</td>\n",
              "      <td>22</td>\n",
              "      <td>45</td>\n",
              "      <td>25</td>\n",
              "      <td>25</td>\n",
              "      <td>26</td>\n",
              "      <td>26</td>\n",
              "      <td>26</td>\n",
              "      <td>28</td>\n",
              "      <td>28</td>\n",
              "      <td>29</td>\n",
              "      <td>43</td>\n",
              "      <td>59</td>\n",
              "      <td>66</td>\n",
              "      <td>74</td>\n",
              "      <td>84</td>\n",
              "      <td>94</td>\n",
              "      <td>105</td>\n",
              "      <td>122</td>\n",
              "      <td>147</td>\n",
              "      <td>159</td>\n",
              "      <td>170</td>\n",
              "      <td>189</td>\n",
              "      <td>214</td>\n",
              "      <td>228</td>\n",
              "      <td>241</td>\n",
              "      <td>256</td>\n",
              "      <td>274</td>\n",
              "      <td>293</td>\n",
              "      <td>331</td>\n",
              "      <td>360</td>\n",
              "      <td>420</td>\n",
              "      <td>461</td>\n",
              "      <td>502</td>\n",
              "      <td>511</td>\n",
              "      <td>581</td>\n",
              "      <td>639</td>\n",
              "      <td>639</td>\n",
              "      <td>701</td>\n",
              "      <td>773</td>\n",
              "      <td>839</td>\n",
              "      <td>825</td>\n",
              "      <td>878</td>\n",
              "      <td>889</td>\n",
              "      <td>924</td>\n",
              "    </tr>\n",
              "    <tr>\n",
              "      <th>2</th>\n",
              "      <td>NaN</td>\n",
              "      <td>Singapore</td>\n",
              "      <td>1.2833</td>\n",
              "      <td>103.8333</td>\n",
              "      <td>0</td>\n",
              "      <td>1</td>\n",
              "      <td>3</td>\n",
              "      <td>3</td>\n",
              "      <td>4</td>\n",
              "      <td>5</td>\n",
              "      <td>7</td>\n",
              "      <td>7</td>\n",
              "      <td>10</td>\n",
              "      <td>13</td>\n",
              "      <td>16</td>\n",
              "      <td>18</td>\n",
              "      <td>18</td>\n",
              "      <td>24</td>\n",
              "      <td>28</td>\n",
              "      <td>28</td>\n",
              "      <td>30</td>\n",
              "      <td>33</td>\n",
              "      <td>40</td>\n",
              "      <td>45</td>\n",
              "      <td>47</td>\n",
              "      <td>50</td>\n",
              "      <td>58</td>\n",
              "      <td>67</td>\n",
              "      <td>72</td>\n",
              "      <td>75</td>\n",
              "      <td>77</td>\n",
              "      <td>81</td>\n",
              "      <td>84</td>\n",
              "      <td>84</td>\n",
              "      <td>85</td>\n",
              "      <td>85</td>\n",
              "      <td>89</td>\n",
              "      <td>89</td>\n",
              "      <td>91</td>\n",
              "      <td>93</td>\n",
              "      <td>93</td>\n",
              "      <td>93</td>\n",
              "      <td>102</td>\n",
              "      <td>106</td>\n",
              "      <td>108</td>\n",
              "      <td>110</td>\n",
              "      <td>110</td>\n",
              "      <td>117</td>\n",
              "      <td>130</td>\n",
              "      <td>138</td>\n",
              "      <td>150</td>\n",
              "      <td>150</td>\n",
              "      <td>160</td>\n",
              "      <td>178</td>\n",
              "      <td>178</td>\n",
              "      <td>200</td>\n",
              "      <td>212</td>\n",
              "      <td>226</td>\n",
              "      <td>243</td>\n",
              "      <td>266</td>\n",
              "      <td>313</td>\n",
              "      <td>345</td>\n",
              "    </tr>\n",
              "    <tr>\n",
              "      <th>3</th>\n",
              "      <td>NaN</td>\n",
              "      <td>Nepal</td>\n",
              "      <td>28.1667</td>\n",
              "      <td>84.2500</td>\n",
              "      <td>0</td>\n",
              "      <td>0</td>\n",
              "      <td>0</td>\n",
              "      <td>1</td>\n",
              "      <td>1</td>\n",
              "      <td>1</td>\n",
              "      <td>1</td>\n",
              "      <td>1</td>\n",
              "      <td>1</td>\n",
              "      <td>1</td>\n",
              "      <td>1</td>\n",
              "      <td>1</td>\n",
              "      <td>1</td>\n",
              "      <td>1</td>\n",
              "      <td>1</td>\n",
              "      <td>1</td>\n",
              "      <td>1</td>\n",
              "      <td>1</td>\n",
              "      <td>1</td>\n",
              "      <td>1</td>\n",
              "      <td>1</td>\n",
              "      <td>1</td>\n",
              "      <td>1</td>\n",
              "      <td>1</td>\n",
              "      <td>1</td>\n",
              "      <td>1</td>\n",
              "      <td>1</td>\n",
              "      <td>1</td>\n",
              "      <td>1</td>\n",
              "      <td>1</td>\n",
              "      <td>1</td>\n",
              "      <td>1</td>\n",
              "      <td>1</td>\n",
              "      <td>1</td>\n",
              "      <td>1</td>\n",
              "      <td>1</td>\n",
              "      <td>1</td>\n",
              "      <td>1</td>\n",
              "      <td>1</td>\n",
              "      <td>1</td>\n",
              "      <td>1</td>\n",
              "      <td>1</td>\n",
              "      <td>1</td>\n",
              "      <td>1</td>\n",
              "      <td>1</td>\n",
              "      <td>1</td>\n",
              "      <td>1</td>\n",
              "      <td>1</td>\n",
              "      <td>1</td>\n",
              "      <td>1</td>\n",
              "      <td>1</td>\n",
              "      <td>1</td>\n",
              "      <td>1</td>\n",
              "      <td>1</td>\n",
              "      <td>1</td>\n",
              "      <td>1</td>\n",
              "      <td>1</td>\n",
              "      <td>1</td>\n",
              "    </tr>\n",
              "    <tr>\n",
              "      <th>4</th>\n",
              "      <td>NaN</td>\n",
              "      <td>Malaysia</td>\n",
              "      <td>2.5000</td>\n",
              "      <td>112.5000</td>\n",
              "      <td>0</td>\n",
              "      <td>0</td>\n",
              "      <td>0</td>\n",
              "      <td>3</td>\n",
              "      <td>4</td>\n",
              "      <td>4</td>\n",
              "      <td>4</td>\n",
              "      <td>7</td>\n",
              "      <td>8</td>\n",
              "      <td>8</td>\n",
              "      <td>8</td>\n",
              "      <td>8</td>\n",
              "      <td>8</td>\n",
              "      <td>10</td>\n",
              "      <td>12</td>\n",
              "      <td>12</td>\n",
              "      <td>12</td>\n",
              "      <td>16</td>\n",
              "      <td>16</td>\n",
              "      <td>18</td>\n",
              "      <td>18</td>\n",
              "      <td>18</td>\n",
              "      <td>19</td>\n",
              "      <td>19</td>\n",
              "      <td>22</td>\n",
              "      <td>22</td>\n",
              "      <td>22</td>\n",
              "      <td>22</td>\n",
              "      <td>22</td>\n",
              "      <td>22</td>\n",
              "      <td>22</td>\n",
              "      <td>22</td>\n",
              "      <td>22</td>\n",
              "      <td>22</td>\n",
              "      <td>22</td>\n",
              "      <td>22</td>\n",
              "      <td>23</td>\n",
              "      <td>23</td>\n",
              "      <td>25</td>\n",
              "      <td>29</td>\n",
              "      <td>29</td>\n",
              "      <td>36</td>\n",
              "      <td>50</td>\n",
              "      <td>50</td>\n",
              "      <td>83</td>\n",
              "      <td>93</td>\n",
              "      <td>99</td>\n",
              "      <td>117</td>\n",
              "      <td>129</td>\n",
              "      <td>149</td>\n",
              "      <td>149</td>\n",
              "      <td>197</td>\n",
              "      <td>238</td>\n",
              "      <td>428</td>\n",
              "      <td>566</td>\n",
              "      <td>673</td>\n",
              "      <td>790</td>\n",
              "      <td>900</td>\n",
              "    </tr>\n",
              "  </tbody>\n",
              "</table>\n",
              "</div>"
            ],
            "text/plain": [
              "  Province/State Country/Region      Lat  ...  3/17/20  3/18/20  3/19/20\n",
              "0            NaN       Thailand  15.0000  ...      177      212      272\n",
              "1            NaN          Japan  36.0000  ...      878      889      924\n",
              "2            NaN      Singapore   1.2833  ...      266      313      345\n",
              "3            NaN          Nepal  28.1667  ...        1        1        1\n",
              "4            NaN       Malaysia   2.5000  ...      673      790      900\n",
              "\n",
              "[5 rows x 62 columns]"
            ]
          },
          "metadata": {
            "tags": []
          },
          "execution_count": 50
        }
      ]
    },
    {
      "cell_type": "markdown",
      "metadata": {
        "id": "sLy91p0yPmn-",
        "colab_type": "text"
      },
      "source": [
        "# Inspecting Infection Numbers"
      ]
    },
    {
      "cell_type": "code",
      "metadata": {
        "id": "rubEwcij6KLl",
        "colab_type": "code",
        "outputId": "9f96a82e-cb5f-4e3c-977f-b246a23836d3",
        "colab": {
          "base_uri": "https://localhost:8080/",
          "height": 34
        }
      },
      "source": [
        "#today = conf_df.columns[len(conf_df.columns)-1]\n",
        "today = conf_df.columns[-1]\n",
        "today"
      ],
      "execution_count": 0,
      "outputs": [
        {
          "output_type": "execute_result",
          "data": {
            "text/plain": [
              "'3/19/20'"
            ]
          },
          "metadata": {
            "tags": []
          },
          "execution_count": 51
        }
      ]
    },
    {
      "cell_type": "code",
      "metadata": {
        "id": "FzblVx1rOjpW",
        "colab_type": "code",
        "colab": {}
      },
      "source": [
        "#num_start_count = 140  # added into get_list() below"
      ],
      "execution_count": 0,
      "outputs": []
    },
    {
      "cell_type": "code",
      "metadata": {
        "id": "tGVSczzwSLZj",
        "colab_type": "code",
        "colab": {}
      },
      "source": [
        "def get_list(col2search, val2search, conf_df, num_start_count=140):\n",
        "#def get_list(col2search, val2search, conf_df):\n",
        "  ts_list = conf_df[(conf_df[col2search] == val2search)]\n",
        "  if ts_list.shape[0] > 1: # if the list has more than one row, we will do sum\n",
        "    #ts_series = ts_list.sum(axis = 0, skipna = True)[4:]\n",
        "    ts_series = ts_list.sum(axis = 0, skipna = True)[4:].astype(int)\n",
        "    eff_dates = ts_series[ts_series > num_start_count].index\n",
        "  else:\n",
        "    ts_series = ts_list.drop(ts_list.columns[[0, 1, 2, 3]], axis=1).iloc[0]\n",
        "    eff_dates = ts_series[ts_series > num_start_count].index\n",
        "  start_date = eff_dates[0]\n",
        "  ts_series.name = val2search  # name the series\n",
        "  ts = ts_series[start_date:]\n",
        "  return ts"
      ],
      "execution_count": 0,
      "outputs": []
    },
    {
      "cell_type": "markdown",
      "metadata": {
        "id": "O7fBEgK1ae9m",
        "colab_type": "text"
      },
      "source": [
        "## Extracting US data"
      ]
    },
    {
      "cell_type": "code",
      "metadata": {
        "id": "flELiRKTVRv6",
        "colab_type": "code",
        "outputId": "49156983-dd06-4fdc-d774-f750cfb8ec45",
        "colab": {
          "base_uri": "https://localhost:8080/",
          "height": 306
        }
      },
      "source": [
        "ts_us = get_list('Country/Region', 'US', conf_df)\n",
        "start_us = ts_us.index[0]\n",
        "d_us = range(ts_us.count())\n",
        "ts_us"
      ],
      "execution_count": 0,
      "outputs": [
        {
          "output_type": "execute_result",
          "data": {
            "text/plain": [
              "3/4/20       149\n",
              "3/5/20       217\n",
              "3/6/20       262\n",
              "3/7/20       402\n",
              "3/8/20       518\n",
              "3/9/20       583\n",
              "3/10/20      959\n",
              "3/11/20     1281\n",
              "3/12/20     1663\n",
              "3/13/20     2179\n",
              "3/14/20     2727\n",
              "3/15/20     3499\n",
              "3/16/20     4632\n",
              "3/17/20     6421\n",
              "3/18/20     7783\n",
              "3/19/20    13677\n",
              "Name: US, dtype: int64"
            ]
          },
          "metadata": {
            "tags": []
          },
          "execution_count": 54
        }
      ]
    },
    {
      "cell_type": "markdown",
      "metadata": {
        "id": "8i2tcjrCakKY",
        "colab_type": "text"
      },
      "source": [
        "## Extracting California data"
      ]
    },
    {
      "cell_type": "code",
      "metadata": {
        "id": "vdQ5RI5cW5ju",
        "colab_type": "code",
        "outputId": "a7c83018-72e3-4b77-a89d-1eb24af920c0",
        "colab": {
          "base_uri": "https://localhost:8080/",
          "height": 204
        }
      },
      "source": [
        "ts_ca = get_list('Province/State', 'California', conf_df)\n",
        "start_ca = ts_ca.index[0]\n",
        "d_ca = range(ts_ca.count())\n",
        "ts_ca"
      ],
      "execution_count": 0,
      "outputs": [
        {
          "output_type": "execute_result",
          "data": {
            "text/plain": [
              "3/10/20    144\n",
              "3/11/20    177\n",
              "3/12/20    221\n",
              "3/13/20    282\n",
              "3/14/20    340\n",
              "3/15/20    426\n",
              "3/16/20    557\n",
              "3/17/20    698\n",
              "3/18/20    751\n",
              "3/19/20    952\n",
              "Name: California, dtype: int64"
            ]
          },
          "metadata": {
            "tags": []
          },
          "execution_count": 55
        }
      ]
    },
    {
      "cell_type": "markdown",
      "metadata": {
        "id": "JcEeg62dantG",
        "colab_type": "text"
      },
      "source": [
        "## Extracting Italy data"
      ]
    },
    {
      "cell_type": "code",
      "metadata": {
        "id": "_rUE3G4EXMxs",
        "colab_type": "code",
        "outputId": "90550031-6f6e-48da-9152-0762f61cfdba",
        "colab": {
          "base_uri": "https://localhost:8080/",
          "height": 476
        }
      },
      "source": [
        "ts_it = get_list('Country/Region', 'Italy', conf_df)\n",
        "start_it = ts_it.index[0]\n",
        "d_it = range(ts_it.count())\n",
        "ts_it"
      ],
      "execution_count": 0,
      "outputs": [
        {
          "output_type": "execute_result",
          "data": {
            "text/plain": [
              "2/23/20      155\n",
              "2/24/20      229\n",
              "2/25/20      322\n",
              "2/26/20      453\n",
              "2/27/20      655\n",
              "2/28/20      888\n",
              "2/29/20     1128\n",
              "3/1/20      1694\n",
              "3/2/20      2036\n",
              "3/3/20      2502\n",
              "3/4/20      3089\n",
              "3/5/20      3858\n",
              "3/6/20      4636\n",
              "3/7/20      5883\n",
              "3/8/20      7375\n",
              "3/9/20      9172\n",
              "3/10/20    10149\n",
              "3/11/20    12462\n",
              "3/12/20    12462\n",
              "3/13/20    17660\n",
              "3/14/20    21157\n",
              "3/15/20    24747\n",
              "3/16/20    27980\n",
              "3/17/20    31506\n",
              "3/18/20    35713\n",
              "3/19/20    41035\n",
              "Name: Italy, dtype: int64"
            ]
          },
          "metadata": {
            "tags": []
          },
          "execution_count": 56
        }
      ]
    },
    {
      "cell_type": "markdown",
      "metadata": {
        "id": "btYbvAh30r_q",
        "colab_type": "text"
      },
      "source": [
        "### Curve fitting Italy data as an inference trend"
      ]
    },
    {
      "cell_type": "code",
      "metadata": {
        "id": "HHvetc7e95lb",
        "colab_type": "code",
        "colab": {}
      },
      "source": [
        "from scipy.optimize import curve_fit"
      ],
      "execution_count": 0,
      "outputs": []
    },
    {
      "cell_type": "markdown",
      "metadata": {
        "id": "smLHwzin9MkP",
        "colab_type": "text"
      },
      "source": [
        "We use exponential function with the consideration of no signs of flattening emergence."
      ]
    },
    {
      "cell_type": "code",
      "metadata": {
        "id": "3hGqXD7rAdan",
        "colab_type": "code",
        "colab": {}
      },
      "source": [
        "def func(x, a, b, c):\n",
        "  return a * np.exp(b * x) + c"
      ],
      "execution_count": 0,
      "outputs": []
    },
    {
      "cell_type": "code",
      "metadata": {
        "id": "Ub5mCOwIIh7B",
        "colab_type": "code",
        "outputId": "cc54874f-36e4-49e9-8a06-0b493a75b048",
        "colab": {
          "base_uri": "https://localhost:8080/",
          "height": 34
        }
      },
      "source": [
        "popt, pcov = curve_fit(func, d_it, ts_it)\n",
        "popt"
      ],
      "execution_count": 0,
      "outputs": [
        {
          "output_type": "execute_result",
          "data": {
            "text/plain": [
              "array([ 1.32135792e+03,  1.40029850e-01, -1.82261955e+03])"
            ]
          },
          "metadata": {
            "tags": []
          },
          "execution_count": 59
        }
      ]
    },
    {
      "cell_type": "markdown",
      "metadata": {
        "id": "pEGhyJS_08xn",
        "colab_type": "text"
      },
      "source": [
        "## Extracting data for China (as reference)"
      ]
    },
    {
      "cell_type": "code",
      "metadata": {
        "id": "BtTQJYGXYCVM",
        "colab_type": "code",
        "outputId": "d0ef6ff8-1971-42e1-c718-8befaee272ef",
        "colab": {
          "base_uri": "https://localhost:8080/",
          "height": 1000
        }
      },
      "source": [
        "ts_cn = get_list('Country/Region', 'China', conf_df)\n",
        "start_cn = ts_cn.index[0]\n",
        "d_cn = range(ts_cn.count())\n",
        "ts_cn"
      ],
      "execution_count": 0,
      "outputs": [
        {
          "output_type": "execute_result",
          "data": {
            "text/plain": [
              "1/22/20      548\n",
              "1/23/20      643\n",
              "1/24/20      920\n",
              "1/25/20     1406\n",
              "1/26/20     2075\n",
              "1/27/20     2877\n",
              "1/28/20     5509\n",
              "1/29/20     6087\n",
              "1/30/20     8141\n",
              "1/31/20     9802\n",
              "2/1/20     11891\n",
              "2/2/20     16630\n",
              "2/3/20     19716\n",
              "2/4/20     23707\n",
              "2/5/20     27440\n",
              "2/6/20     30587\n",
              "2/7/20     34110\n",
              "2/8/20     36814\n",
              "2/9/20     39829\n",
              "2/10/20    42354\n",
              "2/11/20    44386\n",
              "2/12/20    44759\n",
              "2/13/20    59895\n",
              "2/14/20    66358\n",
              "2/15/20    68413\n",
              "2/16/20    70513\n",
              "2/17/20    72434\n",
              "2/18/20    74211\n",
              "2/19/20    74619\n",
              "2/20/20    75077\n",
              "2/21/20    75550\n",
              "2/22/20    77001\n",
              "2/23/20    77022\n",
              "2/24/20    77241\n",
              "2/25/20    77754\n",
              "2/26/20    78166\n",
              "2/27/20    78600\n",
              "2/28/20    78928\n",
              "2/29/20    79356\n",
              "3/1/20     79932\n",
              "3/2/20     80136\n",
              "3/3/20     80261\n",
              "3/4/20     80386\n",
              "3/5/20     80537\n",
              "3/6/20     80690\n",
              "3/7/20     80770\n",
              "3/8/20     80823\n",
              "3/9/20     80860\n",
              "3/10/20    80887\n",
              "3/11/20    80921\n",
              "3/12/20    80932\n",
              "3/13/20    80945\n",
              "3/14/20    80977\n",
              "3/15/20    81003\n",
              "3/16/20    81033\n",
              "3/17/20    81058\n",
              "3/18/20    81102\n",
              "3/19/20    81156\n",
              "Name: China, dtype: int64"
            ]
          },
          "metadata": {
            "tags": []
          },
          "execution_count": 60
        }
      ]
    },
    {
      "cell_type": "markdown",
      "metadata": {
        "id": "mA-E5-uq04Zq",
        "colab_type": "text"
      },
      "source": [
        "## Plotting"
      ]
    },
    {
      "cell_type": "code",
      "metadata": {
        "id": "vo-Hm3OK1Lkx",
        "colab_type": "code",
        "colab": {}
      },
      "source": [
        "%matplotlib inline\n",
        "import matplotlib.patches as mpatches\n",
        "import matplotlib.pyplot as plt\n",
        "plt.style.use('seaborn-whitegrid')"
      ],
      "execution_count": 0,
      "outputs": []
    },
    {
      "cell_type": "code",
      "metadata": {
        "id": "3Fh0Nu0PA2Wv",
        "colab_type": "code",
        "outputId": "fcf92d94-4241-429d-cb4c-14a39609e693",
        "colab": {
          "base_uri": "https://localhost:8080/",
          "height": 502
        }
      },
      "source": [
        "d_fn = range(ts_it.count()+2)\n",
        "\n",
        "plt.figure(figsize=(10, 8))\n",
        "plt.scatter(d_it, ts_it, color='black', linewidth=5, label='Italy: started from '+start_it)\n",
        "plt.scatter(d_us, ts_us, color='red', linewidth=5, label='USA: started from '+start_us)\n",
        "plt.scatter(d_ca, ts_ca, color='blue', linewidth=5, label='California: started from '+start_ca)\n",
        "plt.plot(d_fn, func(d_fn, *popt), 'g--', linewidth=3, label=\"Fitting curve from Italy data\")\n",
        "#plt.scatter(d_cn, ts_cn, color='yellow', label='China: started from Jan 22')\n",
        "\n",
        "plt.xticks(d_fn, fontsize=\"12\")\n",
        "plt.xlabel(\"Number of DAYS from the start dates of having >140 infected people\", fontsize='18')\n",
        "plt.ylabel(\"Number of confirmed infected people\", fontsize='18')\n",
        "plt.legend(loc='upper left', fontsize=21)\n",
        "plt.text(0.5, 22000, ' Scatter Data is collected \\n and ended up to '+today+\" \", fontsize=27, bbox=dict(facecolor='white', alpha=1))\n",
        "plt.show()"
      ],
      "execution_count": 0,
      "outputs": [
        {
          "output_type": "display_data",
          "data": {
            "image/png": "[encoded data removed]",
            "text/plain": [
              "<Figure size 720x576 with 1 Axes>"
            ]
          },
          "metadata": {
            "tags": []
          }
        }
      ]
    },
    {
      "cell_type": "markdown",
      "metadata": {
        "id": "xWIBKQbIaPYI",
        "colab_type": "text"
      },
      "source": [
        "## Normalized by Population"
      ]
    },
    {
      "cell_type": "code",
      "metadata": {
        "id": "E5eZ2MrAafjJ",
        "colab_type": "code",
        "outputId": "686d5235-d30f-4d5e-b3c6-d033f9d56ef5",
        "colab": {
          "base_uri": "https://localhost:8080/",
          "height": 502
        }
      },
      "source": [
        "# population in MILLION from crude google search\n",
        "us_population =  327.2  * 10**6\n",
        "it_population =   60.48 * 10**6\n",
        "ca_population =   39.56 * 10**6\n",
        "cn_population = 1386    * 10**6\n",
        "\n",
        "d_fn = range(ts_it.count()+2)\n",
        "\n",
        "plt.figure(figsize=(10, 8))\n",
        "plt.scatter(d_it, 100*ts_it/it_population, color='black', linewidth=5, label='Italy: started from '+start_it)\n",
        "plt.scatter(d_us, 100*ts_us/us_population, color='red', linewidth=5, label='USA: started from '+start_us)\n",
        "plt.scatter(d_ca, 100*ts_ca/ca_population, color='blue', linewidth=5, label='California: started from '+start_ca)\n",
        "plt.plot(d_fn, 100*func(d_fn, *popt)/it_population, 'g--', linewidth=3, label=\"Fitting curve from Italy data\")\n",
        "#plt.scatter(d_cn, ts_cn, color='yellow', label='China: started from Jan 22')\n",
        "\n",
        "plt.xticks(d_fn, fontsize=\"12\")\n",
        "plt.xlabel(\"Number of DAYS from the start dates of having >140 infected people\", fontsize='18')\n",
        "plt.ylabel(\"% of confirmed infected normalized by population\", fontsize='18')\n",
        "plt.legend(loc='upper left', fontsize=21)\n",
        "#plt.text(0.5, 22000, ' Scatter Data is collected \\n and ended up to '+today+\" \", fontsize=27, bbox=dict(facecolor='white', alpha=1))\n",
        "plt.yscale('log')"
      ],
      "execution_count": 0,
      "outputs": [
        {
          "output_type": "display_data",
          "data": {
            "image/png": "[encoded data removed]",
            "text/plain": [
              "<Figure size 720x576 with 1 Axes>"
            ]
          },
          "metadata": {
            "tags": []
          }
        }
      ]
    },
    {
      "cell_type": "markdown",
      "metadata": {
        "id": "zJShJPfUPvFD",
        "colab_type": "text"
      },
      "source": [
        "# Inspecting Lagged Days"
      ]
    },
    {
      "cell_type": "code",
      "metadata": {
        "id": "ocj3uSXdgqKL",
        "colab_type": "code",
        "outputId": "b46bfe94-ef0f-4b1e-ea13-7c7348d6c3e4",
        "colab": {
          "base_uri": "https://localhost:8080/",
          "height": 297
        }
      },
      "source": [
        "data = [{'Country': \"Italy\",          'Population': 60461826}, \n",
        "        {'Country':\"Germany\",         'Population': 83783942},\n",
        "        {'Country':\"Sweden\",          'Population': 10099265},\n",
        "        {'Country':\"Spain\",           'Population': 46754778},\n",
        "        {'Country':\"Belgium\",         'Population': 11589623},\n",
        "        {'Country':\"Switzerland\",     'Population': 8654622},\n",
        "        {'Country':\"United Kingdom\",  'Population': 67886011},\n",
        "        {'Country':\"US\",              'Population': 331002651},\n",
        "        ]\n",
        "df = pd.DataFrame(data)\n",
        "df"
      ],
      "execution_count": 0,
      "outputs": [
        {
          "output_type": "execute_result",
          "data": {
            "text/html": [
              "<div>\n",
              "<style scoped>\n",
              "    .dataframe tbody tr th:only-of-type {\n",
              "        vertical-align: middle;\n",
              "    }\n",
              "\n",
              "    .dataframe tbody tr th {\n",
              "        vertical-align: top;\n",
              "    }\n",
              "\n",
              "    .dataframe thead th {\n",
              "        text-align: right;\n",
              "    }\n",
              "</style>\n",
              "<table border=\"1\" class=\"dataframe\">\n",
              "  <thead>\n",
              "    <tr style=\"text-align: right;\">\n",
              "      <th></th>\n",
              "      <th>Country</th>\n",
              "      <th>Population</th>\n",
              "    </tr>\n",
              "  </thead>\n",
              "  <tbody>\n",
              "    <tr>\n",
              "      <th>0</th>\n",
              "      <td>Italy</td>\n",
              "      <td>60461826</td>\n",
              "    </tr>\n",
              "    <tr>\n",
              "      <th>1</th>\n",
              "      <td>Germany</td>\n",
              "      <td>83783942</td>\n",
              "    </tr>\n",
              "    <tr>\n",
              "      <th>2</th>\n",
              "      <td>Sweden</td>\n",
              "      <td>10099265</td>\n",
              "    </tr>\n",
              "    <tr>\n",
              "      <th>3</th>\n",
              "      <td>Spain</td>\n",
              "      <td>46754778</td>\n",
              "    </tr>\n",
              "    <tr>\n",
              "      <th>4</th>\n",
              "      <td>Belgium</td>\n",
              "      <td>11589623</td>\n",
              "    </tr>\n",
              "    <tr>\n",
              "      <th>5</th>\n",
              "      <td>Switzerland</td>\n",
              "      <td>8654622</td>\n",
              "    </tr>\n",
              "    <tr>\n",
              "      <th>6</th>\n",
              "      <td>United Kingdom</td>\n",
              "      <td>67886011</td>\n",
              "    </tr>\n",
              "    <tr>\n",
              "      <th>7</th>\n",
              "      <td>US</td>\n",
              "      <td>331002651</td>\n",
              "    </tr>\n",
              "  </tbody>\n",
              "</table>\n",
              "</div>"
            ],
            "text/plain": [
              "          Country  Population\n",
              "0           Italy    60461826\n",
              "1         Germany    83783942\n",
              "2          Sweden    10099265\n",
              "3           Spain    46754778\n",
              "4         Belgium    11589623\n",
              "5     Switzerland     8654622\n",
              "6  United Kingdom    67886011\n",
              "7              US   331002651"
            ]
          },
          "metadata": {
            "tags": []
          },
          "execution_count": 64
        }
      ]
    },
    {
      "cell_type": "code",
      "metadata": {
        "id": "LlUzPTI80jE9",
        "colab_type": "code",
        "outputId": "7fc9a6ba-3fd8-4a3c-f31b-18d40b859303",
        "colab": {
          "base_uri": "https://localhost:8080/",
          "height": 297
        }
      },
      "source": [
        "# UN population data (unit: thousand)\n",
        "\n",
        "un_pop = pd.read_excel('https://population.un.org/wpp/Download/Files/1_Indicators%20(Standard)/EXCEL_FILES/1_Population/WPP2019_POP_F01_1_TOTAL_POPULATION_BOTH_SEXES.xlsx', skiprows=16)\n",
        "\n",
        "def un_population(country, year='2020'):\n",
        "  n = un_pop[ un_pop['Region, subregion, country or area *']==country].iloc[0][year] * 1000\n",
        "  return int(n)\n",
        "\n",
        "data = [{'Country': \"Italy\",          'Population': un_population('Italy')}, \n",
        "        {'Country':\"Germany\",         'Population': un_population('Germany')},\n",
        "        {'Country':\"Sweden\",          'Population': un_population('Sweden')},\n",
        "        {'Country':\"Spain\",           'Population': un_population('Spain')},\n",
        "        {'Country':\"Belgium\",         'Population': un_population('Belgium')},\n",
        "        {'Country':\"Switzerland\",     'Population': un_population('Switzerland')},\n",
        "        {'Country':\"United Kingdom\",  'Population': un_population('United Kingdom')},\n",
        "        {'Country':\"US\",              'Population': un_population('United States of America')},\n",
        "       ]\n",
        "df = pd.DataFrame(data_un)\n",
        "df"
      ],
      "execution_count": 0,
      "outputs": [
        {
          "output_type": "execute_result",
          "data": {
            "text/html": [
              "<div>\n",
              "<style scoped>\n",
              "    .dataframe tbody tr th:only-of-type {\n",
              "        vertical-align: middle;\n",
              "    }\n",
              "\n",
              "    .dataframe tbody tr th {\n",
              "        vertical-align: top;\n",
              "    }\n",
              "\n",
              "    .dataframe thead th {\n",
              "        text-align: right;\n",
              "    }\n",
              "</style>\n",
              "<table border=\"1\" class=\"dataframe\">\n",
              "  <thead>\n",
              "    <tr style=\"text-align: right;\">\n",
              "      <th></th>\n",
              "      <th>Country</th>\n",
              "      <th>Population</th>\n",
              "    </tr>\n",
              "  </thead>\n",
              "  <tbody>\n",
              "    <tr>\n",
              "      <th>0</th>\n",
              "      <td>Italy</td>\n",
              "      <td>60461828</td>\n",
              "    </tr>\n",
              "    <tr>\n",
              "      <th>1</th>\n",
              "      <td>Germany</td>\n",
              "      <td>83783945</td>\n",
              "    </tr>\n",
              "    <tr>\n",
              "      <th>2</th>\n",
              "      <td>Sweden</td>\n",
              "      <td>10099270</td>\n",
              "    </tr>\n",
              "    <tr>\n",
              "      <th>3</th>\n",
              "      <td>Spain</td>\n",
              "      <td>46754783</td>\n",
              "    </tr>\n",
              "    <tr>\n",
              "      <th>4</th>\n",
              "      <td>Belgium</td>\n",
              "      <td>11589616</td>\n",
              "    </tr>\n",
              "    <tr>\n",
              "      <th>5</th>\n",
              "      <td>Switzerland</td>\n",
              "      <td>8654618</td>\n",
              "    </tr>\n",
              "    <tr>\n",
              "      <th>6</th>\n",
              "      <td>United Kingdom</td>\n",
              "      <td>67886004</td>\n",
              "    </tr>\n",
              "    <tr>\n",
              "      <th>7</th>\n",
              "      <td>US</td>\n",
              "      <td>331002647</td>\n",
              "    </tr>\n",
              "  </tbody>\n",
              "</table>\n",
              "</div>"
            ],
            "text/plain": [
              "          Country  Population\n",
              "0           Italy    60461828\n",
              "1         Germany    83783945\n",
              "2          Sweden    10099270\n",
              "3           Spain    46754783\n",
              "4         Belgium    11589616\n",
              "5     Switzerland     8654618\n",
              "6  United Kingdom    67886004\n",
              "7              US   331002647"
            ]
          },
          "metadata": {
            "tags": []
          },
          "execution_count": 65
        }
      ]
    },
    {
      "cell_type": "code",
      "metadata": {
        "id": "rZJBQIKseSgH",
        "colab_type": "code",
        "outputId": "8a96d1d9-dd0c-4731-863a-135bf651f023",
        "colab": {
          "base_uri": "https://localhost:8080/",
          "height": 297
        }
      },
      "source": [
        "days = []\n",
        "infect_latest = []\n",
        "infect_latest_norm = []\n",
        "for index, row in df.iterrows():\n",
        "  country = row['Country']\n",
        "  population = row['Population']\n",
        "  ts = get_list('Country/Region', country, conf_df)\n",
        "  infect_latest.append(ts[-1])\n",
        "  infect_latest_norm.append(ts[-1]/population)\n",
        "  days.append( ts.count() )\n",
        "d_max = max(days)\n",
        "df['Lagged_days'] = d_max - days\n",
        "df['Latest_infections'] = infect_latest\n",
        "df['Normalized_Latest_infections'] = infect_latest_norm\n",
        "df"
      ],
      "execution_count": 0,
      "outputs": [
        {
          "output_type": "execute_result",
          "data": {
            "text/html": [
              "<div>\n",
              "<style scoped>\n",
              "    .dataframe tbody tr th:only-of-type {\n",
              "        vertical-align: middle;\n",
              "    }\n",
              "\n",
              "    .dataframe tbody tr th {\n",
              "        vertical-align: top;\n",
              "    }\n",
              "\n",
              "    .dataframe thead th {\n",
              "        text-align: right;\n",
              "    }\n",
              "</style>\n",
              "<table border=\"1\" class=\"dataframe\">\n",
              "  <thead>\n",
              "    <tr style=\"text-align: right;\">\n",
              "      <th></th>\n",
              "      <th>Country</th>\n",
              "      <th>Population</th>\n",
              "      <th>Lagged_days</th>\n",
              "      <th>Latest_infections</th>\n",
              "      <th>Normalized_Latest_infections</th>\n",
              "    </tr>\n",
              "  </thead>\n",
              "  <tbody>\n",
              "    <tr>\n",
              "      <th>0</th>\n",
              "      <td>Italy</td>\n",
              "      <td>60461828</td>\n",
              "      <td>0</td>\n",
              "      <td>41035</td>\n",
              "      <td>0.000679</td>\n",
              "    </tr>\n",
              "    <tr>\n",
              "      <th>1</th>\n",
              "      <td>Germany</td>\n",
              "      <td>83783945</td>\n",
              "      <td>8</td>\n",
              "      <td>15320</td>\n",
              "      <td>0.000183</td>\n",
              "    </tr>\n",
              "    <tr>\n",
              "      <th>2</th>\n",
              "      <td>Sweden</td>\n",
              "      <td>10099270</td>\n",
              "      <td>13</td>\n",
              "      <td>1439</td>\n",
              "      <td>0.000142</td>\n",
              "    </tr>\n",
              "    <tr>\n",
              "      <th>3</th>\n",
              "      <td>Spain</td>\n",
              "      <td>46754783</td>\n",
              "      <td>9</td>\n",
              "      <td>17963</td>\n",
              "      <td>0.000384</td>\n",
              "    </tr>\n",
              "    <tr>\n",
              "      <th>4</th>\n",
              "      <td>Belgium</td>\n",
              "      <td>11589616</td>\n",
              "      <td>13</td>\n",
              "      <td>1795</td>\n",
              "      <td>0.000155</td>\n",
              "    </tr>\n",
              "    <tr>\n",
              "      <th>5</th>\n",
              "      <td>Switzerland</td>\n",
              "      <td>8654618</td>\n",
              "      <td>12</td>\n",
              "      <td>4075</td>\n",
              "      <td>0.000471</td>\n",
              "    </tr>\n",
              "    <tr>\n",
              "      <th>6</th>\n",
              "      <td>United Kingdom</td>\n",
              "      <td>67886004</td>\n",
              "      <td>12</td>\n",
              "      <td>2716</td>\n",
              "      <td>0.000040</td>\n",
              "    </tr>\n",
              "    <tr>\n",
              "      <th>7</th>\n",
              "      <td>US</td>\n",
              "      <td>331002647</td>\n",
              "      <td>10</td>\n",
              "      <td>13677</td>\n",
              "      <td>0.000041</td>\n",
              "    </tr>\n",
              "  </tbody>\n",
              "</table>\n",
              "</div>"
            ],
            "text/plain": [
              "          Country  Population  ...  Latest_infections  Normalized_Latest_infections\n",
              "0           Italy    60461828  ...              41035                      0.000679\n",
              "1         Germany    83783945  ...              15320                      0.000183\n",
              "2          Sweden    10099270  ...               1439                      0.000142\n",
              "3           Spain    46754783  ...              17963                      0.000384\n",
              "4         Belgium    11589616  ...               1795                      0.000155\n",
              "5     Switzerland     8654618  ...               4075                      0.000471\n",
              "6  United Kingdom    67886004  ...               2716                      0.000040\n",
              "7              US   331002647  ...              13677                      0.000041\n",
              "\n",
              "[8 rows x 5 columns]"
            ]
          },
          "metadata": {
            "tags": []
          },
          "execution_count": 66
        }
      ]
    },
    {
      "cell_type": "code",
      "metadata": {
        "id": "SvM-ur6UeboD",
        "colab_type": "code",
        "colab": {}
      },
      "source": [
        ""
      ],
      "execution_count": 0,
      "outputs": []
    }
  ]
}