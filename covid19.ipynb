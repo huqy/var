{
  "nbformat": 4,
  "nbformat_minor": 0,
  "metadata": {
    "colab": {
      "name": "covid19_scratch.ipynb",
      "provenance": [],
      "collapsed_sections": [],
      "toc_visible": true
    },
    "kernelspec": {
      "name": "python3",
      "display_name": "Python 3"
    }
  },
  "cells": [
    {
      "cell_type": "markdown",
      "metadata": {
        "id": "mEtWVXFsFojj",
        "colab_type": "text"
      },
      "source": [
        "##### Copyright 2020 Qiyang Hu & Shao-Ching Huang"
      ]
    },
    {
      "cell_type": "code",
      "metadata": {
        "id": "qzQZkoyZF2Ng",
        "colab_type": "code",
        "colab": {}
      },
      "source": [
        "#@title Licensed under MIT License (the \"License\");\n",
        "# you may not use this file except in compliance with the License.\n",
        "# You may obtain a copy of the License at\n",
        "#\n",
        "# https://huqy.github.io/var/LICENSE.md\n",
        "#\n",
        "# Unless required by applicable law or agreed to in writing, software\n",
        "# distributed under the License is distributed on an \"AS IS\" BASIS,\n",
        "# WITHOUT WARRANTIES OR CONDITIONS OF ANY KIND, either express or implied.\n",
        "# See the License for the specific language governing permissions and\n",
        "# limitations under the License."
      ],
      "execution_count": 0,
      "outputs": []
    },
    {
      "cell_type": "markdown",
      "metadata": {
        "id": "Vh6tN26NaFZL",
        "colab_type": "text"
      },
      "source": [
        "# Getting raw data"
      ]
    },
    {
      "cell_type": "markdown",
      "metadata": {
        "id": "hbpFtaXeaMKb",
        "colab_type": "text"
      },
      "source": [
        "2019 Novel Coronavirus COVID-19 (2019-nCoV) Data Repository by Johns Hopkins CSSE ([source](https://github.com/CSSEGISandData/COVID-19))"
      ]
    },
    {
      "cell_type": "code",
      "metadata": {
        "id": "JvYazE2PwwKD",
        "colab_type": "code",
        "colab": {}
      },
      "source": [
        "import pandas as pd\n",
        "import numpy as np"
      ],
      "execution_count": 0,
      "outputs": []
    },
    {
      "cell_type": "code",
      "metadata": {
        "id": "1r8mYSvrw6T_",
        "colab_type": "code",
        "outputId": "01af63af-16cd-4322-eb01-739399446907",
        "colab": {
          "base_uri": "https://localhost:8080/",
          "height": 224
        }
      },
      "source": [
        "conf_df = pd.read_csv('https://raw.githubusercontent.com/CSSEGISandData/COVID-19/master/csse_covid_19_data/csse_covid_19_time_series/time_series_covid19_confirmed_global.csv')\n",
        "conf_df.head()"
      ],
      "execution_count": 3,
      "outputs": [
        {
          "output_type": "execute_result",
          "data": {
            "text/html": [
              "<div>\n",
              "<style scoped>\n",
              "    .dataframe tbody tr th:only-of-type {\n",
              "        vertical-align: middle;\n",
              "    }\n",
              "\n",
              "    .dataframe tbody tr th {\n",
              "        vertical-align: top;\n",
              "    }\n",
              "\n",
              "    .dataframe thead th {\n",
              "        text-align: right;\n",
              "    }\n",
              "</style>\n",
              "<table border=\"1\" class=\"dataframe\">\n",
              "  <thead>\n",
              "    <tr style=\"text-align: right;\">\n",
              "      <th></th>\n",
              "      <th>Province/State</th>\n",
              "      <th>Country/Region</th>\n",
              "      <th>Lat</th>\n",
              "      <th>Long</th>\n",
              "      <th>1/22/20</th>\n",
              "      <th>1/23/20</th>\n",
              "      <th>1/24/20</th>\n",
              "      <th>1/25/20</th>\n",
              "      <th>1/26/20</th>\n",
              "      <th>1/27/20</th>\n",
              "      <th>1/28/20</th>\n",
              "      <th>1/29/20</th>\n",
              "      <th>1/30/20</th>\n",
              "      <th>1/31/20</th>\n",
              "      <th>2/1/20</th>\n",
              "      <th>2/2/20</th>\n",
              "      <th>2/3/20</th>\n",
              "      <th>2/4/20</th>\n",
              "      <th>2/5/20</th>\n",
              "      <th>2/6/20</th>\n",
              "      <th>2/7/20</th>\n",
              "      <th>2/8/20</th>\n",
              "      <th>2/9/20</th>\n",
              "      <th>2/10/20</th>\n",
              "      <th>2/11/20</th>\n",
              "      <th>2/12/20</th>\n",
              "      <th>2/13/20</th>\n",
              "      <th>2/14/20</th>\n",
              "      <th>2/15/20</th>\n",
              "      <th>2/16/20</th>\n",
              "      <th>2/17/20</th>\n",
              "      <th>2/18/20</th>\n",
              "      <th>2/19/20</th>\n",
              "      <th>2/20/20</th>\n",
              "      <th>2/21/20</th>\n",
              "      <th>2/22/20</th>\n",
              "      <th>2/23/20</th>\n",
              "      <th>2/24/20</th>\n",
              "      <th>2/25/20</th>\n",
              "      <th>2/26/20</th>\n",
              "      <th>2/27/20</th>\n",
              "      <th>2/28/20</th>\n",
              "      <th>2/29/20</th>\n",
              "      <th>3/1/20</th>\n",
              "      <th>3/2/20</th>\n",
              "      <th>3/3/20</th>\n",
              "      <th>3/4/20</th>\n",
              "      <th>3/5/20</th>\n",
              "      <th>3/6/20</th>\n",
              "      <th>3/7/20</th>\n",
              "      <th>3/8/20</th>\n",
              "      <th>3/9/20</th>\n",
              "      <th>3/10/20</th>\n",
              "      <th>3/11/20</th>\n",
              "      <th>3/12/20</th>\n",
              "      <th>3/13/20</th>\n",
              "      <th>3/14/20</th>\n",
              "      <th>3/15/20</th>\n",
              "      <th>3/16/20</th>\n",
              "      <th>3/17/20</th>\n",
              "      <th>3/18/20</th>\n",
              "      <th>3/19/20</th>\n",
              "      <th>3/20/20</th>\n",
              "      <th>3/21/20</th>\n",
              "      <th>3/22/20</th>\n",
              "      <th>3/23/20</th>\n",
              "      <th>3/24/20</th>\n",
              "      <th>3/25/20</th>\n",
              "      <th>3/26/20</th>\n",
              "      <th>3/27/20</th>\n",
              "    </tr>\n",
              "  </thead>\n",
              "  <tbody>\n",
              "    <tr>\n",
              "      <th>0</th>\n",
              "      <td>NaN</td>\n",
              "      <td>Afghanistan</td>\n",
              "      <td>33.0000</td>\n",
              "      <td>65.0000</td>\n",
              "      <td>0</td>\n",
              "      <td>0</td>\n",
              "      <td>0</td>\n",
              "      <td>0</td>\n",
              "      <td>0</td>\n",
              "      <td>0</td>\n",
              "      <td>0</td>\n",
              "      <td>0</td>\n",
              "      <td>0</td>\n",
              "      <td>0</td>\n",
              "      <td>0</td>\n",
              "      <td>0</td>\n",
              "      <td>0</td>\n",
              "      <td>0</td>\n",
              "      <td>0</td>\n",
              "      <td>0</td>\n",
              "      <td>0</td>\n",
              "      <td>0</td>\n",
              "      <td>0</td>\n",
              "      <td>0</td>\n",
              "      <td>0</td>\n",
              "      <td>0</td>\n",
              "      <td>0</td>\n",
              "      <td>0</td>\n",
              "      <td>0</td>\n",
              "      <td>0</td>\n",
              "      <td>0</td>\n",
              "      <td>0</td>\n",
              "      <td>0</td>\n",
              "      <td>0</td>\n",
              "      <td>0</td>\n",
              "      <td>0</td>\n",
              "      <td>0</td>\n",
              "      <td>1</td>\n",
              "      <td>1</td>\n",
              "      <td>1</td>\n",
              "      <td>1</td>\n",
              "      <td>1</td>\n",
              "      <td>1</td>\n",
              "      <td>1</td>\n",
              "      <td>1</td>\n",
              "      <td>1</td>\n",
              "      <td>1</td>\n",
              "      <td>1</td>\n",
              "      <td>1</td>\n",
              "      <td>1</td>\n",
              "      <td>4</td>\n",
              "      <td>4</td>\n",
              "      <td>5</td>\n",
              "      <td>7</td>\n",
              "      <td>7</td>\n",
              "      <td>7</td>\n",
              "      <td>11</td>\n",
              "      <td>16</td>\n",
              "      <td>21</td>\n",
              "      <td>22</td>\n",
              "      <td>22</td>\n",
              "      <td>22</td>\n",
              "      <td>24</td>\n",
              "      <td>24</td>\n",
              "      <td>40</td>\n",
              "      <td>40</td>\n",
              "      <td>74</td>\n",
              "      <td>84</td>\n",
              "      <td>94</td>\n",
              "      <td>110</td>\n",
              "    </tr>\n",
              "    <tr>\n",
              "      <th>1</th>\n",
              "      <td>NaN</td>\n",
              "      <td>Albania</td>\n",
              "      <td>41.1533</td>\n",
              "      <td>20.1683</td>\n",
              "      <td>0</td>\n",
              "      <td>0</td>\n",
              "      <td>0</td>\n",
              "      <td>0</td>\n",
              "      <td>0</td>\n",
              "      <td>0</td>\n",
              "      <td>0</td>\n",
              "      <td>0</td>\n",
              "      <td>0</td>\n",
              "      <td>0</td>\n",
              "      <td>0</td>\n",
              "      <td>0</td>\n",
              "      <td>0</td>\n",
              "      <td>0</td>\n",
              "      <td>0</td>\n",
              "      <td>0</td>\n",
              "      <td>0</td>\n",
              "      <td>0</td>\n",
              "      <td>0</td>\n",
              "      <td>0</td>\n",
              "      <td>0</td>\n",
              "      <td>0</td>\n",
              "      <td>0</td>\n",
              "      <td>0</td>\n",
              "      <td>0</td>\n",
              "      <td>0</td>\n",
              "      <td>0</td>\n",
              "      <td>0</td>\n",
              "      <td>0</td>\n",
              "      <td>0</td>\n",
              "      <td>0</td>\n",
              "      <td>0</td>\n",
              "      <td>0</td>\n",
              "      <td>0</td>\n",
              "      <td>0</td>\n",
              "      <td>0</td>\n",
              "      <td>0</td>\n",
              "      <td>0</td>\n",
              "      <td>0</td>\n",
              "      <td>0</td>\n",
              "      <td>0</td>\n",
              "      <td>0</td>\n",
              "      <td>0</td>\n",
              "      <td>0</td>\n",
              "      <td>0</td>\n",
              "      <td>0</td>\n",
              "      <td>0</td>\n",
              "      <td>2</td>\n",
              "      <td>10</td>\n",
              "      <td>12</td>\n",
              "      <td>23</td>\n",
              "      <td>33</td>\n",
              "      <td>38</td>\n",
              "      <td>42</td>\n",
              "      <td>51</td>\n",
              "      <td>55</td>\n",
              "      <td>59</td>\n",
              "      <td>64</td>\n",
              "      <td>70</td>\n",
              "      <td>76</td>\n",
              "      <td>89</td>\n",
              "      <td>104</td>\n",
              "      <td>123</td>\n",
              "      <td>146</td>\n",
              "      <td>174</td>\n",
              "      <td>186</td>\n",
              "    </tr>\n",
              "    <tr>\n",
              "      <th>2</th>\n",
              "      <td>NaN</td>\n",
              "      <td>Algeria</td>\n",
              "      <td>28.0339</td>\n",
              "      <td>1.6596</td>\n",
              "      <td>0</td>\n",
              "      <td>0</td>\n",
              "      <td>0</td>\n",
              "      <td>0</td>\n",
              "      <td>0</td>\n",
              "      <td>0</td>\n",
              "      <td>0</td>\n",
              "      <td>0</td>\n",
              "      <td>0</td>\n",
              "      <td>0</td>\n",
              "      <td>0</td>\n",
              "      <td>0</td>\n",
              "      <td>0</td>\n",
              "      <td>0</td>\n",
              "      <td>0</td>\n",
              "      <td>0</td>\n",
              "      <td>0</td>\n",
              "      <td>0</td>\n",
              "      <td>0</td>\n",
              "      <td>0</td>\n",
              "      <td>0</td>\n",
              "      <td>0</td>\n",
              "      <td>0</td>\n",
              "      <td>0</td>\n",
              "      <td>0</td>\n",
              "      <td>0</td>\n",
              "      <td>0</td>\n",
              "      <td>0</td>\n",
              "      <td>0</td>\n",
              "      <td>0</td>\n",
              "      <td>0</td>\n",
              "      <td>0</td>\n",
              "      <td>0</td>\n",
              "      <td>0</td>\n",
              "      <td>1</td>\n",
              "      <td>1</td>\n",
              "      <td>1</td>\n",
              "      <td>1</td>\n",
              "      <td>1</td>\n",
              "      <td>1</td>\n",
              "      <td>3</td>\n",
              "      <td>5</td>\n",
              "      <td>12</td>\n",
              "      <td>12</td>\n",
              "      <td>17</td>\n",
              "      <td>17</td>\n",
              "      <td>19</td>\n",
              "      <td>20</td>\n",
              "      <td>20</td>\n",
              "      <td>20</td>\n",
              "      <td>24</td>\n",
              "      <td>26</td>\n",
              "      <td>37</td>\n",
              "      <td>48</td>\n",
              "      <td>54</td>\n",
              "      <td>60</td>\n",
              "      <td>74</td>\n",
              "      <td>87</td>\n",
              "      <td>90</td>\n",
              "      <td>139</td>\n",
              "      <td>201</td>\n",
              "      <td>230</td>\n",
              "      <td>264</td>\n",
              "      <td>302</td>\n",
              "      <td>367</td>\n",
              "      <td>409</td>\n",
              "    </tr>\n",
              "    <tr>\n",
              "      <th>3</th>\n",
              "      <td>NaN</td>\n",
              "      <td>Andorra</td>\n",
              "      <td>42.5063</td>\n",
              "      <td>1.5218</td>\n",
              "      <td>0</td>\n",
              "      <td>0</td>\n",
              "      <td>0</td>\n",
              "      <td>0</td>\n",
              "      <td>0</td>\n",
              "      <td>0</td>\n",
              "      <td>0</td>\n",
              "      <td>0</td>\n",
              "      <td>0</td>\n",
              "      <td>0</td>\n",
              "      <td>0</td>\n",
              "      <td>0</td>\n",
              "      <td>0</td>\n",
              "      <td>0</td>\n",
              "      <td>0</td>\n",
              "      <td>0</td>\n",
              "      <td>0</td>\n",
              "      <td>0</td>\n",
              "      <td>0</td>\n",
              "      <td>0</td>\n",
              "      <td>0</td>\n",
              "      <td>0</td>\n",
              "      <td>0</td>\n",
              "      <td>0</td>\n",
              "      <td>0</td>\n",
              "      <td>0</td>\n",
              "      <td>0</td>\n",
              "      <td>0</td>\n",
              "      <td>0</td>\n",
              "      <td>0</td>\n",
              "      <td>0</td>\n",
              "      <td>0</td>\n",
              "      <td>0</td>\n",
              "      <td>0</td>\n",
              "      <td>0</td>\n",
              "      <td>0</td>\n",
              "      <td>0</td>\n",
              "      <td>0</td>\n",
              "      <td>0</td>\n",
              "      <td>0</td>\n",
              "      <td>1</td>\n",
              "      <td>1</td>\n",
              "      <td>1</td>\n",
              "      <td>1</td>\n",
              "      <td>1</td>\n",
              "      <td>1</td>\n",
              "      <td>1</td>\n",
              "      <td>1</td>\n",
              "      <td>1</td>\n",
              "      <td>1</td>\n",
              "      <td>1</td>\n",
              "      <td>1</td>\n",
              "      <td>1</td>\n",
              "      <td>1</td>\n",
              "      <td>2</td>\n",
              "      <td>39</td>\n",
              "      <td>39</td>\n",
              "      <td>53</td>\n",
              "      <td>75</td>\n",
              "      <td>88</td>\n",
              "      <td>113</td>\n",
              "      <td>133</td>\n",
              "      <td>164</td>\n",
              "      <td>188</td>\n",
              "      <td>224</td>\n",
              "      <td>267</td>\n",
              "    </tr>\n",
              "    <tr>\n",
              "      <th>4</th>\n",
              "      <td>NaN</td>\n",
              "      <td>Angola</td>\n",
              "      <td>-11.2027</td>\n",
              "      <td>17.8739</td>\n",
              "      <td>0</td>\n",
              "      <td>0</td>\n",
              "      <td>0</td>\n",
              "      <td>0</td>\n",
              "      <td>0</td>\n",
              "      <td>0</td>\n",
              "      <td>0</td>\n",
              "      <td>0</td>\n",
              "      <td>0</td>\n",
              "      <td>0</td>\n",
              "      <td>0</td>\n",
              "      <td>0</td>\n",
              "      <td>0</td>\n",
              "      <td>0</td>\n",
              "      <td>0</td>\n",
              "      <td>0</td>\n",
              "      <td>0</td>\n",
              "      <td>0</td>\n",
              "      <td>0</td>\n",
              "      <td>0</td>\n",
              "      <td>0</td>\n",
              "      <td>0</td>\n",
              "      <td>0</td>\n",
              "      <td>0</td>\n",
              "      <td>0</td>\n",
              "      <td>0</td>\n",
              "      <td>0</td>\n",
              "      <td>0</td>\n",
              "      <td>0</td>\n",
              "      <td>0</td>\n",
              "      <td>0</td>\n",
              "      <td>0</td>\n",
              "      <td>0</td>\n",
              "      <td>0</td>\n",
              "      <td>0</td>\n",
              "      <td>0</td>\n",
              "      <td>0</td>\n",
              "      <td>0</td>\n",
              "      <td>0</td>\n",
              "      <td>0</td>\n",
              "      <td>0</td>\n",
              "      <td>0</td>\n",
              "      <td>0</td>\n",
              "      <td>0</td>\n",
              "      <td>0</td>\n",
              "      <td>0</td>\n",
              "      <td>0</td>\n",
              "      <td>0</td>\n",
              "      <td>0</td>\n",
              "      <td>0</td>\n",
              "      <td>0</td>\n",
              "      <td>0</td>\n",
              "      <td>0</td>\n",
              "      <td>0</td>\n",
              "      <td>0</td>\n",
              "      <td>0</td>\n",
              "      <td>0</td>\n",
              "      <td>0</td>\n",
              "      <td>1</td>\n",
              "      <td>2</td>\n",
              "      <td>2</td>\n",
              "      <td>3</td>\n",
              "      <td>3</td>\n",
              "      <td>3</td>\n",
              "      <td>4</td>\n",
              "      <td>4</td>\n",
              "    </tr>\n",
              "  </tbody>\n",
              "</table>\n",
              "</div>"
            ],
            "text/plain": [
              "  Province/State Country/Region      Lat  ...  3/25/20  3/26/20  3/27/20\n",
              "0            NaN    Afghanistan  33.0000  ...       84       94      110\n",
              "1            NaN        Albania  41.1533  ...      146      174      186\n",
              "2            NaN        Algeria  28.0339  ...      302      367      409\n",
              "3            NaN        Andorra  42.5063  ...      188      224      267\n",
              "4            NaN         Angola -11.2027  ...        3        4        4\n",
              "\n",
              "[5 rows x 70 columns]"
            ]
          },
          "metadata": {
            "tags": []
          },
          "execution_count": 3
        }
      ]
    },
    {
      "cell_type": "markdown",
      "metadata": {
        "id": "sLy91p0yPmn-",
        "colab_type": "text"
      },
      "source": [
        "# Inspecting Infection Numbers"
      ]
    },
    {
      "cell_type": "code",
      "metadata": {
        "id": "rubEwcij6KLl",
        "colab_type": "code",
        "outputId": "a572b8ca-2deb-4e53-92de-d8e204fb4f7a",
        "colab": {
          "base_uri": "https://localhost:8080/",
          "height": 34
        }
      },
      "source": [
        "#today = conf_df.columns[len(conf_df.columns)-1]\n",
        "today = conf_df.columns[-1]\n",
        "today"
      ],
      "execution_count": 4,
      "outputs": [
        {
          "output_type": "execute_result",
          "data": {
            "text/plain": [
              "'3/27/20'"
            ]
          },
          "metadata": {
            "tags": []
          },
          "execution_count": 4
        }
      ]
    },
    {
      "cell_type": "code",
      "metadata": {
        "id": "FzblVx1rOjpW",
        "colab_type": "code",
        "colab": {}
      },
      "source": [
        "#num_start_count = 140  # added into get_list() below"
      ],
      "execution_count": 0,
      "outputs": []
    },
    {
      "cell_type": "code",
      "metadata": {
        "id": "tGVSczzwSLZj",
        "colab_type": "code",
        "colab": {}
      },
      "source": [
        "def get_list(col2search, val2search, conf_df, num_start_count=140):\n",
        "#def get_list(col2search, val2search, conf_df):\n",
        "  ts_list = conf_df[(conf_df[col2search] == val2search)]\n",
        "  if ts_list.shape[0] > 1: # if the list has more than one row, we will do sum\n",
        "    #ts_series = ts_list.sum(axis = 0, skipna = True)[4:]\n",
        "    ts_series = ts_list.sum(axis = 0, skipna = True)[4:].astype(int)\n",
        "    eff_dates = ts_series[ts_series > num_start_count].index\n",
        "  else:\n",
        "    ts_series = ts_list.drop(ts_list.columns[[0, 1, 2, 3]], axis=1).iloc[0]\n",
        "    eff_dates = ts_series[ts_series > num_start_count].index\n",
        "  start_date = eff_dates[0]\n",
        "  ts_series.name = val2search  # name the series\n",
        "  ts = ts_series[start_date:]\n",
        "  return ts"
      ],
      "execution_count": 0,
      "outputs": []
    },
    {
      "cell_type": "markdown",
      "metadata": {
        "id": "O7fBEgK1ae9m",
        "colab_type": "text"
      },
      "source": [
        "## Extracting US data"
      ]
    },
    {
      "cell_type": "code",
      "metadata": {
        "id": "flELiRKTVRv6",
        "colab_type": "code",
        "outputId": "d741eaf0-1079-4af4-92ca-ae0fede6e7eb",
        "colab": {
          "base_uri": "https://localhost:8080/",
          "height": 442
        }
      },
      "source": [
        "ts_us = get_list('Country/Region', 'US', conf_df)\n",
        "start_us = ts_us.index[0]\n",
        "d_us = range(ts_us.count())\n",
        "ts_us"
      ],
      "execution_count": 7,
      "outputs": [
        {
          "output_type": "execute_result",
          "data": {
            "text/plain": [
              "3/4/20        149\n",
              "3/5/20        217\n",
              "3/6/20        262\n",
              "3/7/20        402\n",
              "3/8/20        518\n",
              "3/9/20        583\n",
              "3/10/20       959\n",
              "3/11/20      1281\n",
              "3/12/20      1663\n",
              "3/13/20      2179\n",
              "3/14/20      2727\n",
              "3/15/20      3499\n",
              "3/16/20      4632\n",
              "3/17/20      6421\n",
              "3/18/20      7783\n",
              "3/19/20     13677\n",
              "3/20/20     19100\n",
              "3/21/20     25489\n",
              "3/22/20     33276\n",
              "3/23/20     43847\n",
              "3/24/20     53740\n",
              "3/25/20     65778\n",
              "3/26/20     83836\n",
              "3/27/20    101657\n",
              "Name: US, dtype: int64"
            ]
          },
          "metadata": {
            "tags": []
          },
          "execution_count": 7
        }
      ]
    },
    {
      "cell_type": "markdown",
      "metadata": {
        "id": "8i2tcjrCakKY",
        "colab_type": "text"
      },
      "source": [
        "## Extracting California data"
      ]
    },
    {
      "cell_type": "markdown",
      "metadata": {
        "id": "BwrEiE24JYgS",
        "colab_type": "text"
      },
      "source": [
        "The dataset is stopped showing the California Data"
      ]
    },
    {
      "cell_type": "code",
      "metadata": {
        "id": "qBUtiWzxnVae",
        "colab_type": "code",
        "colab": {}
      },
      "source": [
        ""
      ],
      "execution_count": 0,
      "outputs": []
    },
    {
      "cell_type": "code",
      "metadata": {
        "id": "KExGBSPYLLNL",
        "colab_type": "code",
        "outputId": "de77d49e-1799-4e91-fa40-5b4e99e1bf0c",
        "colab": {
          "base_uri": "https://localhost:8080/",
          "height": 34
        }
      },
      "source": [
        "ts_us_list = conf_df[(conf_df['Country/Region'] == 'US')]\n",
        "ts_us_list.shape[0]"
      ],
      "execution_count": 8,
      "outputs": [
        {
          "output_type": "execute_result",
          "data": {
            "text/plain": [
              "1"
            ]
          },
          "metadata": {
            "tags": []
          },
          "execution_count": 8
        }
      ]
    },
    {
      "cell_type": "code",
      "metadata": {
        "id": "vdQ5RI5cW5ju",
        "colab_type": "code",
        "colab": {}
      },
      "source": [
        "#ts_ca = get_list('Province/State', 'California', conf_df)\n",
        "#start_ca = ts_ca.index[0]\n",
        "#d_ca = range(ts_ca.count())\n",
        "#ts_ca"
      ],
      "execution_count": 0,
      "outputs": []
    },
    {
      "cell_type": "markdown",
      "metadata": {
        "id": "JcEeg62dantG",
        "colab_type": "text"
      },
      "source": [
        "## Extracting Italy data"
      ]
    },
    {
      "cell_type": "code",
      "metadata": {
        "id": "_rUE3G4EXMxs",
        "colab_type": "code",
        "outputId": "9cdebd73-52cd-4d68-c151-53e8ede778c5",
        "colab": {
          "base_uri": "https://localhost:8080/",
          "height": 612
        }
      },
      "source": [
        "ts_it = get_list('Country/Region', 'Italy', conf_df)\n",
        "start_it = ts_it.index[0]\n",
        "d_it = range(ts_it.count())\n",
        "ts_it"
      ],
      "execution_count": 10,
      "outputs": [
        {
          "output_type": "execute_result",
          "data": {
            "text/plain": [
              "2/23/20      155\n",
              "2/24/20      229\n",
              "2/25/20      322\n",
              "2/26/20      453\n",
              "2/27/20      655\n",
              "2/28/20      888\n",
              "2/29/20     1128\n",
              "3/1/20      1694\n",
              "3/2/20      2036\n",
              "3/3/20      2502\n",
              "3/4/20      3089\n",
              "3/5/20      3858\n",
              "3/6/20      4636\n",
              "3/7/20      5883\n",
              "3/8/20      7375\n",
              "3/9/20      9172\n",
              "3/10/20    10149\n",
              "3/11/20    12462\n",
              "3/12/20    12462\n",
              "3/13/20    17660\n",
              "3/14/20    21157\n",
              "3/15/20    24747\n",
              "3/16/20    27980\n",
              "3/17/20    31506\n",
              "3/18/20    35713\n",
              "3/19/20    41035\n",
              "3/20/20    47021\n",
              "3/21/20    53578\n",
              "3/22/20    59138\n",
              "3/23/20    63927\n",
              "3/24/20    69176\n",
              "3/25/20    74386\n",
              "3/26/20    80589\n",
              "3/27/20    86498\n",
              "Name: Italy, dtype: int64"
            ]
          },
          "metadata": {
            "tags": []
          },
          "execution_count": 10
        }
      ]
    },
    {
      "cell_type": "markdown",
      "metadata": {
        "id": "pEGhyJS_08xn",
        "colab_type": "text"
      },
      "source": [
        "## Extracting data for China (as reference)"
      ]
    },
    {
      "cell_type": "code",
      "metadata": {
        "id": "BtTQJYGXYCVM",
        "colab_type": "code",
        "colab": {
          "base_uri": "https://localhost:8080/",
          "height": 221
        },
        "outputId": "8544da56-d7ac-463e-b52c-5fa83168a2c5"
      },
      "source": [
        "ts_cn = get_list('Country/Region', 'China', conf_df)\n",
        "start_cn = ts_cn.index[0]\n",
        "d_cn = range(ts_cn.count())\n",
        "ts_cn"
      ],
      "execution_count": 11,
      "outputs": [
        {
          "output_type": "execute_result",
          "data": {
            "text/plain": [
              "1/22/20      548\n",
              "1/23/20      643\n",
              "1/24/20      920\n",
              "1/25/20     1406\n",
              "1/26/20     2075\n",
              "           ...  \n",
              "3/23/20    81498\n",
              "3/24/20    81591\n",
              "3/25/20    81661\n",
              "3/26/20    81782\n",
              "3/27/20    81897\n",
              "Name: China, Length: 66, dtype: int64"
            ]
          },
          "metadata": {
            "tags": []
          },
          "execution_count": 11
        }
      ]
    },
    {
      "cell_type": "markdown",
      "metadata": {
        "id": "btYbvAh30r_q",
        "colab_type": "text"
      },
      "source": [
        "## Curve fitting"
      ]
    },
    {
      "cell_type": "code",
      "metadata": {
        "id": "HHvetc7e95lb",
        "colab_type": "code",
        "colab": {}
      },
      "source": [
        "from scipy.optimize import curve_fit"
      ],
      "execution_count": 0,
      "outputs": []
    },
    {
      "cell_type": "markdown",
      "metadata": {
        "id": "smLHwzin9MkP",
        "colab_type": "text"
      },
      "source": [
        "We use exponential function with the consideration of no signs of flattening emergence."
      ]
    },
    {
      "cell_type": "code",
      "metadata": {
        "id": "3hGqXD7rAdan",
        "colab_type": "code",
        "colab": {}
      },
      "source": [
        "def func(x, a, b, c):\n",
        "  return a * np.exp(b * x) + c"
      ],
      "execution_count": 0,
      "outputs": []
    },
    {
      "cell_type": "code",
      "metadata": {
        "id": "REMGWV3uFsnw",
        "colab_type": "code",
        "outputId": "dc6fb8d6-c637-42b4-bc47-fb42172c8d5a",
        "colab": {
          "base_uri": "https://localhost:8080/",
          "height": 34
        }
      },
      "source": [
        "popt_us, pcov_us = curve_fit(func, d_us, ts_us)\n",
        "popt_us"
      ],
      "execution_count": 14,
      "outputs": [
        {
          "output_type": "execute_result",
          "data": {
            "text/plain": [
              "array([ 5.54081835e+02,  2.28478858e-01, -1.82118505e+03])"
            ]
          },
          "metadata": {
            "tags": []
          },
          "execution_count": 14
        }
      ]
    },
    {
      "cell_type": "code",
      "metadata": {
        "id": "Ub5mCOwIIh7B",
        "colab_type": "code",
        "outputId": "49bae703-66f0-4330-eb87-3146f5518327",
        "colab": {
          "base_uri": "https://localhost:8080/",
          "height": 34
        }
      },
      "source": [
        "popt_it, pcov_it = curve_fit(func, d_it, ts_it)\n",
        "popt_it"
      ],
      "execution_count": 15,
      "outputs": [
        {
          "output_type": "execute_result",
          "data": {
            "text/plain": [
              "array([ 4.51310965e+03,  9.35468920e-02, -7.29644708e+03])"
            ]
          },
          "metadata": {
            "tags": []
          },
          "execution_count": 15
        }
      ]
    },
    {
      "cell_type": "markdown",
      "metadata": {
        "id": "po7ISazdhlIW",
        "colab_type": "text"
      },
      "source": [
        "## Rough estimation for $R_0$"
      ]
    },
    {
      "cell_type": "markdown",
      "metadata": {
        "id": "4oan_jOHiJSM",
        "colab_type": "text"
      },
      "source": [
        "According to the SEIR model ([1](https://en.wikipedia.org/wiki/Basic_reproduction_number), [2](https://en.wikipedia.org/wiki/Compartmental_models_in_epidemiology#The_SEIR_model)):\n",
        "\n",
        "$R_0 = 1 + K (T_e + T_i) + K^2 T_e T_i$   \n",
        "\n",
        "where\n",
        "\n",
        "*   $K = \\displaystyle \\frac{d\\ln(N)}{dt}$\n",
        "*   $T_e$ is the duration of the exposed state \n",
        "*   $T_i$ is the duration of the latent infectious state\n"
      ]
    },
    {
      "cell_type": "code",
      "metadata": {
        "id": "ULyRsZgshqg5",
        "colab_type": "code",
        "colab": {}
      },
      "source": [
        "def R0(K, T_e, T_i):\n",
        "  return 1 + K * (T_e + T_i) + K * K * T_e * T_i"
      ],
      "execution_count": 0,
      "outputs": []
    },
    {
      "cell_type": "markdown",
      "metadata": {
        "id": "8y4yxyq8i6d0",
        "colab_type": "text"
      },
      "source": [
        "According to the [paper](https://annals.org/aim/fullarticle/2762808/incubation-period-coronavirus-disease-2019-covid-19-from-publicly-reported), 97.5% of those who develop symptoms will do so within 11.5 days (CI, 8.2 to 15.6 days) of infection, thus we assume $T_i \\approx 11.5$. Also assuming $T_e \\approx 0.1$ "
      ]
    },
    {
      "cell_type": "code",
      "metadata": {
        "id": "VrDS0WHEk1Bf",
        "colab_type": "code",
        "outputId": "fc58534f-7e45-4a18-cf90-25f5b524a1ab",
        "colab": {
          "base_uri": "https://localhost:8080/",
          "height": 34
        }
      },
      "source": [
        "R0_us = R0(popt_us[1], 11.5, 0.1)\n",
        "R0_us"
      ],
      "execution_count": 17,
      "outputs": [
        {
          "output_type": "execute_result",
          "data": {
            "text/plain": [
              "3.71038773043904"
            ]
          },
          "metadata": {
            "tags": []
          },
          "execution_count": 17
        }
      ]
    },
    {
      "cell_type": "code",
      "metadata": {
        "id": "VY59sb9hlKUN",
        "colab_type": "code",
        "outputId": "70d140db-bca7-4735-c38b-0dd999c88e38",
        "colab": {
          "base_uri": "https://localhost:8080/",
          "height": 34
        }
      },
      "source": [
        "R0_it = R0(popt_it[1], 11.5, 0.1)\n",
        "R0_it"
      ],
      "execution_count": 18,
      "outputs": [
        {
          "output_type": "execute_result",
          "data": {
            "text/plain": [
              "2.09520762113513"
            ]
          },
          "metadata": {
            "tags": []
          },
          "execution_count": 18
        }
      ]
    },
    {
      "cell_type": "markdown",
      "metadata": {
        "id": "mA-E5-uq04Zq",
        "colab_type": "text"
      },
      "source": [
        "## Plotting"
      ]
    },
    {
      "cell_type": "code",
      "metadata": {
        "id": "vo-Hm3OK1Lkx",
        "colab_type": "code",
        "colab": {}
      },
      "source": [
        "%matplotlib inline\n",
        "import matplotlib.patches as mpatches\n",
        "import matplotlib.pyplot as plt\n",
        "plt.style.use('seaborn-whitegrid')"
      ],
      "execution_count": 0,
      "outputs": []
    },
    {
      "cell_type": "code",
      "metadata": {
        "id": "3Fh0Nu0PA2Wv",
        "colab_type": "code",
        "outputId": "df59786b-0087-4d03-c067-6dd5dafa9a81",
        "colab": {
          "base_uri": "https://localhost:8080/",
          "height": 502
        }
      },
      "source": [
        "d_fn = range(ts_it.count()+2)\n",
        "d_fn_us = range(ts_us.count()+3)\n",
        "\n",
        "plt.figure(figsize=(11, 8))\n",
        "plt.scatter(d_it, ts_it, color='black', linewidth=5, label='Italy: started from '+start_it)\n",
        "plt.scatter(d_us, ts_us, color='red', linewidth=5, label='USA: started from '+start_us)\n",
        "#plt.scatter(d_ca, ts_ca, color='blue', linewidth=5, label='CA: started from '+start_ca)\n",
        "plt.plot(d_fn, func(d_fn, *popt_it), 'g--', linewidth=3, label=\"Fitting curve from Italy data\")\n",
        "plt.plot(d_fn_us, func(d_fn_us, *popt_us), 'r--', linewidth=3, label=\"Fitting curve from US data\")\n",
        "#plt.scatter(d_cn, ts_cn, color='yellow', label='China: started from Jan 22')\n",
        "\n",
        "plt.xticks(d_fn, fontsize=\"12\")\n",
        "plt.xlabel(\"Number of DAYS from the start dates of having >140 infected people\", fontsize='18')\n",
        "plt.ylabel(\"Number of confirmed infected people\", fontsize='18')\n",
        "plt.legend(loc='upper left', fontsize=21)\n",
        "plt.text(0, 65000, ' Scatter Data is collected \\n and ended up to '+today+\" \", fontsize=25, bbox=dict(facecolor='white', alpha=1))\n",
        "plt.text(24.5, 110000, '$R_0$ = '+\"{:.2f}\".format(R0_us), fontsize=20, bbox=dict(facecolor='white', alpha=1))\n",
        "plt.text(25, 24000, '$R_0$ = '+\"{:.2f}\".format(R0_it), fontsize=20, bbox=dict(facecolor='white', alpha=1))\n",
        "plt.show()"
      ],
      "execution_count": 20,
      "outputs": [
        {
          "output_type": "display_data",
          "data": {
            "image/png": "[encoded data removed]",
            "text/plain": [
              "<Figure size 792x576 with 1 Axes>"
            ]
          },
          "metadata": {
            "tags": []
          }
        }
      ]
    },
    {
      "cell_type": "markdown",
      "metadata": {
        "id": "xWIBKQbIaPYI",
        "colab_type": "text"
      },
      "source": [
        "## Normalized by Population"
      ]
    },
    {
      "cell_type": "code",
      "metadata": {
        "id": "E5eZ2MrAafjJ",
        "colab_type": "code",
        "outputId": "3e4cb108-9650-487d-ffca-47c0c4e6e6fd",
        "colab": {
          "base_uri": "https://localhost:8080/",
          "height": 502
        }
      },
      "source": [
        "# population in MILLION from crude google search\n",
        "us_population =  327.2  * 10**6\n",
        "it_population =   60.48 * 10**6\n",
        "#ca_population =   39.56 * 10**6\n",
        "cn_population = 1386    * 10**6\n",
        "\n",
        "d_fn = range(ts_it.count()+2)\n",
        "\n",
        "plt.figure(figsize=(10, 8))\n",
        "plt.scatter(d_it, 100*ts_it/it_population, color='black', linewidth=5, label='Italy: started from '+start_it)\n",
        "plt.scatter(d_us, 100*ts_us/us_population, color='red', linewidth=5, label='USA: started from '+start_us)\n",
        "#plt.scatter(d_ca, 100*ts_ca/ca_population, color='blue', linewidth=5, label='California: started from '+start_ca)\n",
        "plt.plot(d_fn, 100*func(d_fn, *popt_it)/it_population, 'g--', linewidth=3, label=\"Fitting curve from Italy data\")\n",
        "#plt.scatter(d_cn, ts_cn, color='yellow', label='China: started from Jan 22')\n",
        "\n",
        "plt.xticks(d_fn, fontsize=\"12\")\n",
        "plt.xlabel(\"Number of DAYS from the start dates of having >140 infected people\", fontsize='18')\n",
        "plt.ylabel(\"% of confirmed infected normalized by population\", fontsize='18')\n",
        "plt.legend(loc='upper left', fontsize=21)\n",
        "#plt.text(0.5, 22000, ' Scatter Data is collected \\n and ended up to '+today+\" \", fontsize=27, bbox=dict(facecolor='white', alpha=1))\n",
        "plt.yscale('log')"
      ],
      "execution_count": 21,
      "outputs": [
        {
          "output_type": "display_data",
          "data": {
            "image/png": "[encoded data removed]",
            "text/plain": [
              "<Figure size 720x576 with 1 Axes>"
            ]
          },
          "metadata": {
            "tags": []
          }
        }
      ]
    },
    {
      "cell_type": "markdown",
      "metadata": {
        "id": "zJShJPfUPvFD",
        "colab_type": "text"
      },
      "source": [
        "# Inspecting Lagged Days"
      ]
    },
    {
      "cell_type": "code",
      "metadata": {
        "id": "ocj3uSXdgqKL",
        "colab_type": "code",
        "colab": {
          "base_uri": "https://localhost:8080/",
          "height": 297
        },
        "outputId": "037e3988-cf13-4d4c-d033-3fc716d81324"
      },
      "source": [
        "data = [{'Country': \"Italy\",          'Population': 60461826}, \n",
        "        {'Country':\"Germany\",         'Population': 83783942},\n",
        "        {'Country':\"Sweden\",          'Population': 10099265},\n",
        "        {'Country':\"Spain\",           'Population': 46754778},\n",
        "        {'Country':\"Belgium\",         'Population': 11589623},\n",
        "        {'Country':\"Switzerland\",     'Population': 8654622},\n",
        "        {'Country':\"United Kingdom\",  'Population': 67886011},\n",
        "        {'Country':\"US\",              'Population': 331002651},\n",
        "        ]\n",
        "df = pd.DataFrame(data)\n",
        "df"
      ],
      "execution_count": 22,
      "outputs": [
        {
          "output_type": "execute_result",
          "data": {
            "text/html": [
              "<div>\n",
              "<style scoped>\n",
              "    .dataframe tbody tr th:only-of-type {\n",
              "        vertical-align: middle;\n",
              "    }\n",
              "\n",
              "    .dataframe tbody tr th {\n",
              "        vertical-align: top;\n",
              "    }\n",
              "\n",
              "    .dataframe thead th {\n",
              "        text-align: right;\n",
              "    }\n",
              "</style>\n",
              "<table border=\"1\" class=\"dataframe\">\n",
              "  <thead>\n",
              "    <tr style=\"text-align: right;\">\n",
              "      <th></th>\n",
              "      <th>Country</th>\n",
              "      <th>Population</th>\n",
              "    </tr>\n",
              "  </thead>\n",
              "  <tbody>\n",
              "    <tr>\n",
              "      <th>0</th>\n",
              "      <td>Italy</td>\n",
              "      <td>60461826</td>\n",
              "    </tr>\n",
              "    <tr>\n",
              "      <th>1</th>\n",
              "      <td>Germany</td>\n",
              "      <td>83783942</td>\n",
              "    </tr>\n",
              "    <tr>\n",
              "      <th>2</th>\n",
              "      <td>Sweden</td>\n",
              "      <td>10099265</td>\n",
              "    </tr>\n",
              "    <tr>\n",
              "      <th>3</th>\n",
              "      <td>Spain</td>\n",
              "      <td>46754778</td>\n",
              "    </tr>\n",
              "    <tr>\n",
              "      <th>4</th>\n",
              "      <td>Belgium</td>\n",
              "      <td>11589623</td>\n",
              "    </tr>\n",
              "    <tr>\n",
              "      <th>5</th>\n",
              "      <td>Switzerland</td>\n",
              "      <td>8654622</td>\n",
              "    </tr>\n",
              "    <tr>\n",
              "      <th>6</th>\n",
              "      <td>United Kingdom</td>\n",
              "      <td>67886011</td>\n",
              "    </tr>\n",
              "    <tr>\n",
              "      <th>7</th>\n",
              "      <td>US</td>\n",
              "      <td>331002651</td>\n",
              "    </tr>\n",
              "  </tbody>\n",
              "</table>\n",
              "</div>"
            ],
            "text/plain": [
              "          Country  Population\n",
              "0           Italy    60461826\n",
              "1         Germany    83783942\n",
              "2          Sweden    10099265\n",
              "3           Spain    46754778\n",
              "4         Belgium    11589623\n",
              "5     Switzerland     8654622\n",
              "6  United Kingdom    67886011\n",
              "7              US   331002651"
            ]
          },
          "metadata": {
            "tags": []
          },
          "execution_count": 22
        }
      ]
    },
    {
      "cell_type": "code",
      "metadata": {
        "id": "LlUzPTI80jE9",
        "colab_type": "code",
        "colab": {
          "base_uri": "https://localhost:8080/",
          "height": 297
        },
        "outputId": "8c6f07b2-b0c7-4cd5-9d1c-bd750f80246d"
      },
      "source": [
        "# UN population data (unit: thousand)\n",
        "\n",
        "un_pop = pd.read_excel('https://population.un.org/wpp/Download/Files/1_Indicators%20(Standard)/EXCEL_FILES/1_Population/WPP2019_POP_F01_1_TOTAL_POPULATION_BOTH_SEXES.xlsx', skiprows=16)\n",
        "\n",
        "def un_population(country, year='2020'):\n",
        "  n = un_pop[ un_pop['Region, subregion, country or area *']==country].iloc[0][year] * 1000\n",
        "  return int(n)\n",
        "\n",
        "data_un = [{'Country': \"Italy\",          'Population': un_population('Italy')}, \n",
        "        {'Country':\"Germany\",         'Population': un_population('Germany')},\n",
        "        {'Country':\"Sweden\",          'Population': un_population('Sweden')},\n",
        "        {'Country':\"Spain\",           'Population': un_population('Spain')},\n",
        "        {'Country':\"Belgium\",         'Population': un_population('Belgium')},\n",
        "        {'Country':\"Switzerland\",     'Population': un_population('Switzerland')},\n",
        "        {'Country':\"United Kingdom\",  'Population': un_population('United Kingdom')},\n",
        "        {'Country':\"US\",              'Population': un_population('United States of America')},\n",
        "       ]\n",
        "df = pd.DataFrame(data_un)\n",
        "df"
      ],
      "execution_count": 23,
      "outputs": [
        {
          "output_type": "execute_result",
          "data": {
            "text/html": [
              "<div>\n",
              "<style scoped>\n",
              "    .dataframe tbody tr th:only-of-type {\n",
              "        vertical-align: middle;\n",
              "    }\n",
              "\n",
              "    .dataframe tbody tr th {\n",
              "        vertical-align: top;\n",
              "    }\n",
              "\n",
              "    .dataframe thead th {\n",
              "        text-align: right;\n",
              "    }\n",
              "</style>\n",
              "<table border=\"1\" class=\"dataframe\">\n",
              "  <thead>\n",
              "    <tr style=\"text-align: right;\">\n",
              "      <th></th>\n",
              "      <th>Country</th>\n",
              "      <th>Population</th>\n",
              "    </tr>\n",
              "  </thead>\n",
              "  <tbody>\n",
              "    <tr>\n",
              "      <th>0</th>\n",
              "      <td>Italy</td>\n",
              "      <td>60461828</td>\n",
              "    </tr>\n",
              "    <tr>\n",
              "      <th>1</th>\n",
              "      <td>Germany</td>\n",
              "      <td>83783945</td>\n",
              "    </tr>\n",
              "    <tr>\n",
              "      <th>2</th>\n",
              "      <td>Sweden</td>\n",
              "      <td>10099270</td>\n",
              "    </tr>\n",
              "    <tr>\n",
              "      <th>3</th>\n",
              "      <td>Spain</td>\n",
              "      <td>46754783</td>\n",
              "    </tr>\n",
              "    <tr>\n",
              "      <th>4</th>\n",
              "      <td>Belgium</td>\n",
              "      <td>11589616</td>\n",
              "    </tr>\n",
              "    <tr>\n",
              "      <th>5</th>\n",
              "      <td>Switzerland</td>\n",
              "      <td>8654618</td>\n",
              "    </tr>\n",
              "    <tr>\n",
              "      <th>6</th>\n",
              "      <td>United Kingdom</td>\n",
              "      <td>67886004</td>\n",
              "    </tr>\n",
              "    <tr>\n",
              "      <th>7</th>\n",
              "      <td>US</td>\n",
              "      <td>331002647</td>\n",
              "    </tr>\n",
              "  </tbody>\n",
              "</table>\n",
              "</div>"
            ],
            "text/plain": [
              "          Country  Population\n",
              "0           Italy    60461828\n",
              "1         Germany    83783945\n",
              "2          Sweden    10099270\n",
              "3           Spain    46754783\n",
              "4         Belgium    11589616\n",
              "5     Switzerland     8654618\n",
              "6  United Kingdom    67886004\n",
              "7              US   331002647"
            ]
          },
          "metadata": {
            "tags": []
          },
          "execution_count": 23
        }
      ]
    },
    {
      "cell_type": "code",
      "metadata": {
        "id": "rZJBQIKseSgH",
        "colab_type": "code",
        "colab": {
          "base_uri": "https://localhost:8080/",
          "height": 297
        },
        "outputId": "a18477e1-5ad8-4d0e-f6be-4ad725e1fcb0"
      },
      "source": [
        "days = []\n",
        "infect_latest = []\n",
        "infect_latest_norm = []\n",
        "for index, row in df.iterrows():\n",
        "  country = row['Country']\n",
        "  population = row['Population']\n",
        "  ts = get_list('Country/Region', country, conf_df)\n",
        "  infect_latest.append(ts[-1])\n",
        "  infect_latest_norm.append(ts[-1]/population)\n",
        "  days.append( ts.count() )\n",
        "d_max = max(days)\n",
        "df['Lagged_days'] = d_max - days\n",
        "df['Latest_infections'] = infect_latest\n",
        "df['Normalized_Latest_infections'] = infect_latest_norm\n",
        "df"
      ],
      "execution_count": 24,
      "outputs": [
        {
          "output_type": "execute_result",
          "data": {
            "text/html": [
              "<div>\n",
              "<style scoped>\n",
              "    .dataframe tbody tr th:only-of-type {\n",
              "        vertical-align: middle;\n",
              "    }\n",
              "\n",
              "    .dataframe tbody tr th {\n",
              "        vertical-align: top;\n",
              "    }\n",
              "\n",
              "    .dataframe thead th {\n",
              "        text-align: right;\n",
              "    }\n",
              "</style>\n",
              "<table border=\"1\" class=\"dataframe\">\n",
              "  <thead>\n",
              "    <tr style=\"text-align: right;\">\n",
              "      <th></th>\n",
              "      <th>Country</th>\n",
              "      <th>Population</th>\n",
              "      <th>Lagged_days</th>\n",
              "      <th>Latest_infections</th>\n",
              "      <th>Normalized_Latest_infections</th>\n",
              "    </tr>\n",
              "  </thead>\n",
              "  <tbody>\n",
              "    <tr>\n",
              "      <th>0</th>\n",
              "      <td>Italy</td>\n",
              "      <td>60461828</td>\n",
              "      <td>0</td>\n",
              "      <td>86498</td>\n",
              "      <td>0.001431</td>\n",
              "    </tr>\n",
              "    <tr>\n",
              "      <th>1</th>\n",
              "      <td>Germany</td>\n",
              "      <td>83783945</td>\n",
              "      <td>8</td>\n",
              "      <td>50871</td>\n",
              "      <td>0.000607</td>\n",
              "    </tr>\n",
              "    <tr>\n",
              "      <th>2</th>\n",
              "      <td>Sweden</td>\n",
              "      <td>10099270</td>\n",
              "      <td>13</td>\n",
              "      <td>3069</td>\n",
              "      <td>0.000304</td>\n",
              "    </tr>\n",
              "    <tr>\n",
              "      <th>3</th>\n",
              "      <td>Spain</td>\n",
              "      <td>46754783</td>\n",
              "      <td>9</td>\n",
              "      <td>65719</td>\n",
              "      <td>0.001406</td>\n",
              "    </tr>\n",
              "    <tr>\n",
              "      <th>4</th>\n",
              "      <td>Belgium</td>\n",
              "      <td>11589616</td>\n",
              "      <td>13</td>\n",
              "      <td>7284</td>\n",
              "      <td>0.000628</td>\n",
              "    </tr>\n",
              "    <tr>\n",
              "      <th>5</th>\n",
              "      <td>Switzerland</td>\n",
              "      <td>8654618</td>\n",
              "      <td>12</td>\n",
              "      <td>12928</td>\n",
              "      <td>0.001494</td>\n",
              "    </tr>\n",
              "    <tr>\n",
              "      <th>6</th>\n",
              "      <td>United Kingdom</td>\n",
              "      <td>67886004</td>\n",
              "      <td>12</td>\n",
              "      <td>14745</td>\n",
              "      <td>0.000217</td>\n",
              "    </tr>\n",
              "    <tr>\n",
              "      <th>7</th>\n",
              "      <td>US</td>\n",
              "      <td>331002647</td>\n",
              "      <td>10</td>\n",
              "      <td>101657</td>\n",
              "      <td>0.000307</td>\n",
              "    </tr>\n",
              "  </tbody>\n",
              "</table>\n",
              "</div>"
            ],
            "text/plain": [
              "          Country  Population  ...  Latest_infections  Normalized_Latest_infections\n",
              "0           Italy    60461828  ...              86498                      0.001431\n",
              "1         Germany    83783945  ...              50871                      0.000607\n",
              "2          Sweden    10099270  ...               3069                      0.000304\n",
              "3           Spain    46754783  ...              65719                      0.001406\n",
              "4         Belgium    11589616  ...               7284                      0.000628\n",
              "5     Switzerland     8654618  ...              12928                      0.001494\n",
              "6  United Kingdom    67886004  ...              14745                      0.000217\n",
              "7              US   331002647  ...             101657                      0.000307\n",
              "\n",
              "[8 rows x 5 columns]"
            ]
          },
          "metadata": {
            "tags": []
          },
          "execution_count": 24
        }
      ]
    },
    {
      "cell_type": "code",
      "metadata": {
        "id": "SvM-ur6UeboD",
        "colab_type": "code",
        "colab": {}
      },
      "source": [
        ""
      ],
      "execution_count": 0,
      "outputs": []
    }
  ]
}